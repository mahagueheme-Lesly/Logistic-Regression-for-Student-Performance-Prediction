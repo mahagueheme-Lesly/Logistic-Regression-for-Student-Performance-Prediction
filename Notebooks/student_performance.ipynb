{
 "cells": [
  {
   "cell_type": "markdown",
   "id": "794bb239",
   "metadata": {},
   "source": [
    "# Project : Logistic Regression for Student Performance Prediction\n",
    "\n",
    "###  What this project is about\n",
    "\n",
    "In this notebook, we are trying to answer a very practical question:\n",
    "**“Can we predict if a student will pass or fail based on their background, habits, and school-related information?”**\n",
    "\n",
    "We will not just build a model, but we are also trying to understand the **math** behind it. This is important because in real life, schools, policymakers, and even parents make decisions based on data so we must know both *how the model works* and *what its results mean*.\n",
    "\n",
    "---\n",
    "\n",
    "###  Why Logistic Regression?\n",
    "\n",
    "Logistic regression is one of the simplest yet most powerful tools for **binary classification**  problems where the outcome has only two possibilities (e.g., pass/fail, yes/no, 1/0).\n",
    "\n",
    "In this project, we’ll use logistic regression to study student performance. For example:\n",
    "\n",
    "* How does **study time** affect the probability of passing?\n",
    "* Do factors like **parental education** or **school support** play a role?\n",
    "* Can we interpret the coefficients in a way that makes sense in real life?\n",
    "\n",
    "---\n",
    "\n",
    "###  What we’ll do step by step\n",
    "\n",
    "1. **Prepare the dataset** (clean it, handle missing values, encode categorical variables).\n",
    "2. **Mathematical foundations** – derive the logistic regression formula, log-likelihood, and gradient.\n",
    "3. **Implementation** – write logistic regression from scratch, then compare with scikit-learn.\n",
    "4. **Optimization** – test different methods (gradient descent vs. Newton’s method).\n",
    "5. **Advanced topics** – handle class imbalance, add regularization, interpret coefficients.\n",
    "6. **Critical reflection** – talk about fairness and bias in educational datasets.\n",
    "\n",
    "---\n",
    "\n",
    "\n",
    "By the end, we’ll have:\n",
    "\n",
    "* A working model that predicts student performance.\n",
    "* A deeper understanding of the math behind logistic regression.\n",
    "* Insights into the ethical challenges of applying machine learning in education.\n"
   ]
  },
  {
   "cell_type": "markdown",
   "id": "81dc575c",
   "metadata": {},
   "source": [
    "## Dataset Attributes\n",
    "\n",
    "### General Information\n",
    "\n",
    "The following attributes are present in both `student-mat.csv` (Math course) and `student-por.csv` (Portuguese course) datasets:\n",
    "\n",
    "1. **school** - student's school (binary: `\"GP\"` - Gabriel Pereira or `\"MS\"` - Mousinho da Silveira)  \n",
    "2. **sex** - student's sex (binary: `\"F\"` - female or `\"M\"` - male)  \n",
    "3. **age** - student's age (numeric: 15 to 22)  \n",
    "4. **address** - student's home address type (binary: `\"U\"` - urban or `\"R\"` - rural)  \n",
    "5. **famsize** - family size (binary: `\"LE3\"` - ≤3 or `\"GT3\"` - >3)  \n",
    "6. **Pstatus** - parent's cohabitation status (binary: `\"T\"` - together or `\"A\"` - apart)  \n",
    "7. **Medu** - mother's education (numeric: 0 = none, 1 = primary (4th grade), 2 = 5th–9th grade, 3 = secondary, 4 = higher education)  \n",
    "8. **Fedu** - father's education (same as `Medu`)  \n",
    "9. **Mjob** - mother's job (nominal: `\"teacher\"`, `\"health\"`, `\"services\"`, `\"at_home\"`, `\"other\"`)  \n",
    "10. **Fjob** - father's job (same as `Mjob`)  \n",
    "11. **reason** - reason to choose this school (nominal: `\"home\"`, `\"reputation\"`, `\"course\"`, `\"other\"`)  \n",
    "12. **guardian** - student's guardian (nominal: `\"mother\"`, `\"father\"`, `\"other\"`)  \n",
    "13. **traveltime** - home to school travel time (numeric: 1 = <15 min, 2 = 15–30 min, 3 = 30–60 min, 4 = >60 min)  \n",
    "14. **studytime** - weekly study time (numeric: 1 = <2 h, 2 = 2–5 h, 3 = 5–10 h, 4 = >10 h)  \n",
    "15. **failures** - number of past class failures (numeric: n if 1≤n<3, else 4)  \n",
    "16. **schoolsup** - extra educational support (binary: yes/no)  \n",
    "17. **famsup** - family educational support (binary: yes/no)  \n",
    "18. **paid** - extra paid classes in the subject (binary: yes/no)  \n",
    "19. **activities** - extra-curricular activities (binary: yes/no)  \n",
    "20. **nursery** - attended nursery school (binary: yes/no)  \n",
    "21. **higher** - wants higher education (binary: yes/no)  \n",
    "22. **internet** - internet access at home (binary: yes/no)  \n",
    "23. **romantic** - in a romantic relationship (binary: yes/no)  \n",
    "24. **famrel** - quality of family relationships (numeric: 1 = very bad to 5 = excellent)  \n",
    "25. **freetime** - free time after school (numeric: 1 = very low to 5 = very high)  \n",
    "26. **goout** - going out with friends (numeric: 1 = very low to 5 = very high)  \n",
    "27. **Dalc** - workday alcohol consumption (numeric: 1 = very low to 5 = very high)  \n",
    "28. **Walc** - weekend alcohol consumption (numeric: 1 = very low to 5 = very high)  \n",
    "29. **health** - current health status (numeric: 1 = very bad to 5 = very good)  \n",
    "30. **absences** - number of school absences (numeric: 0 to 93)  \n",
    "\n",
    "### Course Grades\n",
    "\n",
    "Grades related to the specific course (Math or Portuguese):\n",
    "\n",
    "31. **G1** - first period grade (numeric: 0 to 20)  \n",
    "32. **G2** - second period grade (numeric: 0 to 20)  \n",
    "33. **G3** - final grade (numeric: 0 to 20, this is the **target/output**)  \n",
    "\n",
    "### Additional Note\n",
    "\n",
    "- There are **382 students** that belong to both datasets.  \n",
    "- These students can be identified by searching for identical attributes that characterize each student (as shown in the R file included with the data).\n"
   ]
  },
  {
   "cell_type": "code",
   "execution_count": 2,
   "id": "e4a6dd79",
   "metadata": {},
   "outputs": [],
   "source": [
    "#import libraries\n",
    "\n",
    "import pandas as pd\n",
    "import seaborn as sns\n",
    "import matplotlib.pyplot as plt\n",
    "import numpy as np\n",
    "from sklearn.model_selection import train_test_split\n",
    "from sklearn.linear_model import LogisticRegression\n",
    "from sklearn.metrics import accuracy_score, classification_report\n"
   ]
  },
  {
   "cell_type": "code",
   "execution_count": 3,
   "id": "87bf974f",
   "metadata": {},
   "outputs": [],
   "source": [
    "df1 = pd.read_csv(\"../DATA/student+performance/student/student-mat.csv\", sep=\";\")"
   ]
  },
  {
   "cell_type": "code",
   "execution_count": 4,
   "id": "4853c47f",
   "metadata": {},
   "outputs": [
    {
     "data": {
      "text/html": [
       "<div>\n",
       "<style scoped>\n",
       "    .dataframe tbody tr th:only-of-type {\n",
       "        vertical-align: middle;\n",
       "    }\n",
       "\n",
       "    .dataframe tbody tr th {\n",
       "        vertical-align: top;\n",
       "    }\n",
       "\n",
       "    .dataframe thead th {\n",
       "        text-align: right;\n",
       "    }\n",
       "</style>\n",
       "<table border=\"1\" class=\"dataframe\">\n",
       "  <thead>\n",
       "    <tr style=\"text-align: right;\">\n",
       "      <th></th>\n",
       "      <th>school</th>\n",
       "      <th>sex</th>\n",
       "      <th>age</th>\n",
       "      <th>address</th>\n",
       "      <th>famsize</th>\n",
       "      <th>Pstatus</th>\n",
       "      <th>Medu</th>\n",
       "      <th>Fedu</th>\n",
       "      <th>Mjob</th>\n",
       "      <th>Fjob</th>\n",
       "      <th>...</th>\n",
       "      <th>famrel</th>\n",
       "      <th>freetime</th>\n",
       "      <th>goout</th>\n",
       "      <th>Dalc</th>\n",
       "      <th>Walc</th>\n",
       "      <th>health</th>\n",
       "      <th>absences</th>\n",
       "      <th>G1</th>\n",
       "      <th>G2</th>\n",
       "      <th>G3</th>\n",
       "    </tr>\n",
       "  </thead>\n",
       "  <tbody>\n",
       "    <tr>\n",
       "      <th>0</th>\n",
       "      <td>GP</td>\n",
       "      <td>F</td>\n",
       "      <td>18</td>\n",
       "      <td>U</td>\n",
       "      <td>GT3</td>\n",
       "      <td>A</td>\n",
       "      <td>4</td>\n",
       "      <td>4</td>\n",
       "      <td>at_home</td>\n",
       "      <td>teacher</td>\n",
       "      <td>...</td>\n",
       "      <td>4</td>\n",
       "      <td>3</td>\n",
       "      <td>4</td>\n",
       "      <td>1</td>\n",
       "      <td>1</td>\n",
       "      <td>3</td>\n",
       "      <td>6</td>\n",
       "      <td>5</td>\n",
       "      <td>6</td>\n",
       "      <td>6</td>\n",
       "    </tr>\n",
       "    <tr>\n",
       "      <th>1</th>\n",
       "      <td>GP</td>\n",
       "      <td>F</td>\n",
       "      <td>17</td>\n",
       "      <td>U</td>\n",
       "      <td>GT3</td>\n",
       "      <td>T</td>\n",
       "      <td>1</td>\n",
       "      <td>1</td>\n",
       "      <td>at_home</td>\n",
       "      <td>other</td>\n",
       "      <td>...</td>\n",
       "      <td>5</td>\n",
       "      <td>3</td>\n",
       "      <td>3</td>\n",
       "      <td>1</td>\n",
       "      <td>1</td>\n",
       "      <td>3</td>\n",
       "      <td>4</td>\n",
       "      <td>5</td>\n",
       "      <td>5</td>\n",
       "      <td>6</td>\n",
       "    </tr>\n",
       "    <tr>\n",
       "      <th>2</th>\n",
       "      <td>GP</td>\n",
       "      <td>F</td>\n",
       "      <td>15</td>\n",
       "      <td>U</td>\n",
       "      <td>LE3</td>\n",
       "      <td>T</td>\n",
       "      <td>1</td>\n",
       "      <td>1</td>\n",
       "      <td>at_home</td>\n",
       "      <td>other</td>\n",
       "      <td>...</td>\n",
       "      <td>4</td>\n",
       "      <td>3</td>\n",
       "      <td>2</td>\n",
       "      <td>2</td>\n",
       "      <td>3</td>\n",
       "      <td>3</td>\n",
       "      <td>10</td>\n",
       "      <td>7</td>\n",
       "      <td>8</td>\n",
       "      <td>10</td>\n",
       "    </tr>\n",
       "    <tr>\n",
       "      <th>3</th>\n",
       "      <td>GP</td>\n",
       "      <td>F</td>\n",
       "      <td>15</td>\n",
       "      <td>U</td>\n",
       "      <td>GT3</td>\n",
       "      <td>T</td>\n",
       "      <td>4</td>\n",
       "      <td>2</td>\n",
       "      <td>health</td>\n",
       "      <td>services</td>\n",
       "      <td>...</td>\n",
       "      <td>3</td>\n",
       "      <td>2</td>\n",
       "      <td>2</td>\n",
       "      <td>1</td>\n",
       "      <td>1</td>\n",
       "      <td>5</td>\n",
       "      <td>2</td>\n",
       "      <td>15</td>\n",
       "      <td>14</td>\n",
       "      <td>15</td>\n",
       "    </tr>\n",
       "    <tr>\n",
       "      <th>4</th>\n",
       "      <td>GP</td>\n",
       "      <td>F</td>\n",
       "      <td>16</td>\n",
       "      <td>U</td>\n",
       "      <td>GT3</td>\n",
       "      <td>T</td>\n",
       "      <td>3</td>\n",
       "      <td>3</td>\n",
       "      <td>other</td>\n",
       "      <td>other</td>\n",
       "      <td>...</td>\n",
       "      <td>4</td>\n",
       "      <td>3</td>\n",
       "      <td>2</td>\n",
       "      <td>1</td>\n",
       "      <td>2</td>\n",
       "      <td>5</td>\n",
       "      <td>4</td>\n",
       "      <td>6</td>\n",
       "      <td>10</td>\n",
       "      <td>10</td>\n",
       "    </tr>\n",
       "  </tbody>\n",
       "</table>\n",
       "<p>5 rows × 33 columns</p>\n",
       "</div>"
      ],
      "text/plain": [
       "  school sex  age address famsize Pstatus  Medu  Fedu     Mjob      Fjob  ...  \\\n",
       "0     GP   F   18       U     GT3       A     4     4  at_home   teacher  ...   \n",
       "1     GP   F   17       U     GT3       T     1     1  at_home     other  ...   \n",
       "2     GP   F   15       U     LE3       T     1     1  at_home     other  ...   \n",
       "3     GP   F   15       U     GT3       T     4     2   health  services  ...   \n",
       "4     GP   F   16       U     GT3       T     3     3    other     other  ...   \n",
       "\n",
       "  famrel freetime  goout  Dalc  Walc health absences  G1  G2  G3  \n",
       "0      4        3      4     1     1      3        6   5   6   6  \n",
       "1      5        3      3     1     1      3        4   5   5   6  \n",
       "2      4        3      2     2     3      3       10   7   8  10  \n",
       "3      3        2      2     1     1      5        2  15  14  15  \n",
       "4      4        3      2     1     2      5        4   6  10  10  \n",
       "\n",
       "[5 rows x 33 columns]"
      ]
     },
     "execution_count": 4,
     "metadata": {},
     "output_type": "execute_result"
    }
   ],
   "source": [
    "df1.head(5)"
   ]
  },
  {
   "cell_type": "code",
   "execution_count": 5,
   "id": "976a06f0",
   "metadata": {},
   "outputs": [],
   "source": [
    "df2 = pd.read_csv(\"../DATA/student+performance/student/student-por.csv\", sep=\";\")"
   ]
  },
  {
   "cell_type": "code",
   "execution_count": 6,
   "id": "87f98528",
   "metadata": {},
   "outputs": [
    {
     "data": {
      "text/html": [
       "<div>\n",
       "<style scoped>\n",
       "    .dataframe tbody tr th:only-of-type {\n",
       "        vertical-align: middle;\n",
       "    }\n",
       "\n",
       "    .dataframe tbody tr th {\n",
       "        vertical-align: top;\n",
       "    }\n",
       "\n",
       "    .dataframe thead th {\n",
       "        text-align: right;\n",
       "    }\n",
       "</style>\n",
       "<table border=\"1\" class=\"dataframe\">\n",
       "  <thead>\n",
       "    <tr style=\"text-align: right;\">\n",
       "      <th></th>\n",
       "      <th>school</th>\n",
       "      <th>sex</th>\n",
       "      <th>age</th>\n",
       "      <th>address</th>\n",
       "      <th>famsize</th>\n",
       "      <th>Pstatus</th>\n",
       "      <th>Medu</th>\n",
       "      <th>Fedu</th>\n",
       "      <th>Mjob</th>\n",
       "      <th>Fjob</th>\n",
       "      <th>...</th>\n",
       "      <th>famrel</th>\n",
       "      <th>freetime</th>\n",
       "      <th>goout</th>\n",
       "      <th>Dalc</th>\n",
       "      <th>Walc</th>\n",
       "      <th>health</th>\n",
       "      <th>absences</th>\n",
       "      <th>G1</th>\n",
       "      <th>G2</th>\n",
       "      <th>G3</th>\n",
       "    </tr>\n",
       "  </thead>\n",
       "  <tbody>\n",
       "    <tr>\n",
       "      <th>0</th>\n",
       "      <td>GP</td>\n",
       "      <td>F</td>\n",
       "      <td>18</td>\n",
       "      <td>U</td>\n",
       "      <td>GT3</td>\n",
       "      <td>A</td>\n",
       "      <td>4</td>\n",
       "      <td>4</td>\n",
       "      <td>at_home</td>\n",
       "      <td>teacher</td>\n",
       "      <td>...</td>\n",
       "      <td>4</td>\n",
       "      <td>3</td>\n",
       "      <td>4</td>\n",
       "      <td>1</td>\n",
       "      <td>1</td>\n",
       "      <td>3</td>\n",
       "      <td>4</td>\n",
       "      <td>0</td>\n",
       "      <td>11</td>\n",
       "      <td>11</td>\n",
       "    </tr>\n",
       "    <tr>\n",
       "      <th>1</th>\n",
       "      <td>GP</td>\n",
       "      <td>F</td>\n",
       "      <td>17</td>\n",
       "      <td>U</td>\n",
       "      <td>GT3</td>\n",
       "      <td>T</td>\n",
       "      <td>1</td>\n",
       "      <td>1</td>\n",
       "      <td>at_home</td>\n",
       "      <td>other</td>\n",
       "      <td>...</td>\n",
       "      <td>5</td>\n",
       "      <td>3</td>\n",
       "      <td>3</td>\n",
       "      <td>1</td>\n",
       "      <td>1</td>\n",
       "      <td>3</td>\n",
       "      <td>2</td>\n",
       "      <td>9</td>\n",
       "      <td>11</td>\n",
       "      <td>11</td>\n",
       "    </tr>\n",
       "    <tr>\n",
       "      <th>2</th>\n",
       "      <td>GP</td>\n",
       "      <td>F</td>\n",
       "      <td>15</td>\n",
       "      <td>U</td>\n",
       "      <td>LE3</td>\n",
       "      <td>T</td>\n",
       "      <td>1</td>\n",
       "      <td>1</td>\n",
       "      <td>at_home</td>\n",
       "      <td>other</td>\n",
       "      <td>...</td>\n",
       "      <td>4</td>\n",
       "      <td>3</td>\n",
       "      <td>2</td>\n",
       "      <td>2</td>\n",
       "      <td>3</td>\n",
       "      <td>3</td>\n",
       "      <td>6</td>\n",
       "      <td>12</td>\n",
       "      <td>13</td>\n",
       "      <td>12</td>\n",
       "    </tr>\n",
       "    <tr>\n",
       "      <th>3</th>\n",
       "      <td>GP</td>\n",
       "      <td>F</td>\n",
       "      <td>15</td>\n",
       "      <td>U</td>\n",
       "      <td>GT3</td>\n",
       "      <td>T</td>\n",
       "      <td>4</td>\n",
       "      <td>2</td>\n",
       "      <td>health</td>\n",
       "      <td>services</td>\n",
       "      <td>...</td>\n",
       "      <td>3</td>\n",
       "      <td>2</td>\n",
       "      <td>2</td>\n",
       "      <td>1</td>\n",
       "      <td>1</td>\n",
       "      <td>5</td>\n",
       "      <td>0</td>\n",
       "      <td>14</td>\n",
       "      <td>14</td>\n",
       "      <td>14</td>\n",
       "    </tr>\n",
       "    <tr>\n",
       "      <th>4</th>\n",
       "      <td>GP</td>\n",
       "      <td>F</td>\n",
       "      <td>16</td>\n",
       "      <td>U</td>\n",
       "      <td>GT3</td>\n",
       "      <td>T</td>\n",
       "      <td>3</td>\n",
       "      <td>3</td>\n",
       "      <td>other</td>\n",
       "      <td>other</td>\n",
       "      <td>...</td>\n",
       "      <td>4</td>\n",
       "      <td>3</td>\n",
       "      <td>2</td>\n",
       "      <td>1</td>\n",
       "      <td>2</td>\n",
       "      <td>5</td>\n",
       "      <td>0</td>\n",
       "      <td>11</td>\n",
       "      <td>13</td>\n",
       "      <td>13</td>\n",
       "    </tr>\n",
       "  </tbody>\n",
       "</table>\n",
       "<p>5 rows × 33 columns</p>\n",
       "</div>"
      ],
      "text/plain": [
       "  school sex  age address famsize Pstatus  Medu  Fedu     Mjob      Fjob  ...  \\\n",
       "0     GP   F   18       U     GT3       A     4     4  at_home   teacher  ...   \n",
       "1     GP   F   17       U     GT3       T     1     1  at_home     other  ...   \n",
       "2     GP   F   15       U     LE3       T     1     1  at_home     other  ...   \n",
       "3     GP   F   15       U     GT3       T     4     2   health  services  ...   \n",
       "4     GP   F   16       U     GT3       T     3     3    other     other  ...   \n",
       "\n",
       "  famrel freetime  goout  Dalc  Walc health absences  G1  G2  G3  \n",
       "0      4        3      4     1     1      3        4   0  11  11  \n",
       "1      5        3      3     1     1      3        2   9  11  11  \n",
       "2      4        3      2     2     3      3        6  12  13  12  \n",
       "3      3        2      2     1     1      5        0  14  14  14  \n",
       "4      4        3      2     1     2      5        0  11  13  13  \n",
       "\n",
       "[5 rows x 33 columns]"
      ]
     },
     "execution_count": 6,
     "metadata": {},
     "output_type": "execute_result"
    }
   ],
   "source": [
    "df2.head()"
   ]
  },
  {
   "cell_type": "code",
   "execution_count": 7,
   "id": "f5befb40",
   "metadata": {},
   "outputs": [
    {
     "name": "stdout",
     "output_type": "stream",
     "text": [
      "Number of students in merged dataset: 382\n"
     ]
    }
   ],
   "source": [
    "# Merge datasets on common attributes\n",
    "merge_cols = [\"school\",\"sex\",\"age\",\"address\",\"famsize\",\"Pstatus\",\n",
    "              \"Medu\",\"Fedu\",\"Mjob\",\"Fjob\",\"reason\",\"nursery\",\"internet\"]\n",
    "\n",
    "df3 = pd.merge(df1, df2, on=merge_cols)\n",
    "\n",
    "# Check number of students in the merged dataset\n",
    "print(\"Number of students in merged dataset:\", df3.shape[0])"
   ]
  },
  {
   "cell_type": "code",
   "execution_count": 8,
   "id": "e1549374",
   "metadata": {},
   "outputs": [
    {
     "data": {
      "text/html": [
       "<div>\n",
       "<style scoped>\n",
       "    .dataframe tbody tr th:only-of-type {\n",
       "        vertical-align: middle;\n",
       "    }\n",
       "\n",
       "    .dataframe tbody tr th {\n",
       "        vertical-align: top;\n",
       "    }\n",
       "\n",
       "    .dataframe thead th {\n",
       "        text-align: right;\n",
       "    }\n",
       "</style>\n",
       "<table border=\"1\" class=\"dataframe\">\n",
       "  <thead>\n",
       "    <tr style=\"text-align: right;\">\n",
       "      <th></th>\n",
       "      <th>school</th>\n",
       "      <th>sex</th>\n",
       "      <th>age</th>\n",
       "      <th>address</th>\n",
       "      <th>famsize</th>\n",
       "      <th>Pstatus</th>\n",
       "      <th>Medu</th>\n",
       "      <th>Fedu</th>\n",
       "      <th>Mjob</th>\n",
       "      <th>Fjob</th>\n",
       "      <th>...</th>\n",
       "      <th>famrel_y</th>\n",
       "      <th>freetime_y</th>\n",
       "      <th>goout_y</th>\n",
       "      <th>Dalc_y</th>\n",
       "      <th>Walc_y</th>\n",
       "      <th>health_y</th>\n",
       "      <th>absences_y</th>\n",
       "      <th>G1_y</th>\n",
       "      <th>G2_y</th>\n",
       "      <th>G3_y</th>\n",
       "    </tr>\n",
       "  </thead>\n",
       "  <tbody>\n",
       "    <tr>\n",
       "      <th>0</th>\n",
       "      <td>GP</td>\n",
       "      <td>F</td>\n",
       "      <td>18</td>\n",
       "      <td>U</td>\n",
       "      <td>GT3</td>\n",
       "      <td>A</td>\n",
       "      <td>4</td>\n",
       "      <td>4</td>\n",
       "      <td>at_home</td>\n",
       "      <td>teacher</td>\n",
       "      <td>...</td>\n",
       "      <td>4</td>\n",
       "      <td>3</td>\n",
       "      <td>4</td>\n",
       "      <td>1</td>\n",
       "      <td>1</td>\n",
       "      <td>3</td>\n",
       "      <td>4</td>\n",
       "      <td>0</td>\n",
       "      <td>11</td>\n",
       "      <td>11</td>\n",
       "    </tr>\n",
       "    <tr>\n",
       "      <th>1</th>\n",
       "      <td>GP</td>\n",
       "      <td>F</td>\n",
       "      <td>17</td>\n",
       "      <td>U</td>\n",
       "      <td>GT3</td>\n",
       "      <td>T</td>\n",
       "      <td>1</td>\n",
       "      <td>1</td>\n",
       "      <td>at_home</td>\n",
       "      <td>other</td>\n",
       "      <td>...</td>\n",
       "      <td>5</td>\n",
       "      <td>3</td>\n",
       "      <td>3</td>\n",
       "      <td>1</td>\n",
       "      <td>1</td>\n",
       "      <td>3</td>\n",
       "      <td>2</td>\n",
       "      <td>9</td>\n",
       "      <td>11</td>\n",
       "      <td>11</td>\n",
       "    </tr>\n",
       "    <tr>\n",
       "      <th>2</th>\n",
       "      <td>GP</td>\n",
       "      <td>F</td>\n",
       "      <td>15</td>\n",
       "      <td>U</td>\n",
       "      <td>LE3</td>\n",
       "      <td>T</td>\n",
       "      <td>1</td>\n",
       "      <td>1</td>\n",
       "      <td>at_home</td>\n",
       "      <td>other</td>\n",
       "      <td>...</td>\n",
       "      <td>4</td>\n",
       "      <td>3</td>\n",
       "      <td>2</td>\n",
       "      <td>2</td>\n",
       "      <td>3</td>\n",
       "      <td>3</td>\n",
       "      <td>6</td>\n",
       "      <td>12</td>\n",
       "      <td>13</td>\n",
       "      <td>12</td>\n",
       "    </tr>\n",
       "    <tr>\n",
       "      <th>3</th>\n",
       "      <td>GP</td>\n",
       "      <td>F</td>\n",
       "      <td>15</td>\n",
       "      <td>U</td>\n",
       "      <td>GT3</td>\n",
       "      <td>T</td>\n",
       "      <td>4</td>\n",
       "      <td>2</td>\n",
       "      <td>health</td>\n",
       "      <td>services</td>\n",
       "      <td>...</td>\n",
       "      <td>3</td>\n",
       "      <td>2</td>\n",
       "      <td>2</td>\n",
       "      <td>1</td>\n",
       "      <td>1</td>\n",
       "      <td>5</td>\n",
       "      <td>0</td>\n",
       "      <td>14</td>\n",
       "      <td>14</td>\n",
       "      <td>14</td>\n",
       "    </tr>\n",
       "    <tr>\n",
       "      <th>4</th>\n",
       "      <td>GP</td>\n",
       "      <td>F</td>\n",
       "      <td>16</td>\n",
       "      <td>U</td>\n",
       "      <td>GT3</td>\n",
       "      <td>T</td>\n",
       "      <td>3</td>\n",
       "      <td>3</td>\n",
       "      <td>other</td>\n",
       "      <td>other</td>\n",
       "      <td>...</td>\n",
       "      <td>4</td>\n",
       "      <td>3</td>\n",
       "      <td>2</td>\n",
       "      <td>1</td>\n",
       "      <td>2</td>\n",
       "      <td>5</td>\n",
       "      <td>0</td>\n",
       "      <td>11</td>\n",
       "      <td>13</td>\n",
       "      <td>13</td>\n",
       "    </tr>\n",
       "  </tbody>\n",
       "</table>\n",
       "<p>5 rows × 53 columns</p>\n",
       "</div>"
      ],
      "text/plain": [
       "  school sex  age address famsize Pstatus  Medu  Fedu     Mjob      Fjob  ...  \\\n",
       "0     GP   F   18       U     GT3       A     4     4  at_home   teacher  ...   \n",
       "1     GP   F   17       U     GT3       T     1     1  at_home     other  ...   \n",
       "2     GP   F   15       U     LE3       T     1     1  at_home     other  ...   \n",
       "3     GP   F   15       U     GT3       T     4     2   health  services  ...   \n",
       "4     GP   F   16       U     GT3       T     3     3    other     other  ...   \n",
       "\n",
       "  famrel_y freetime_y  goout_y  Dalc_y  Walc_y health_y absences_y G1_y G2_y  \\\n",
       "0        4          3        4       1       1        3          4    0   11   \n",
       "1        5          3        3       1       1        3          2    9   11   \n",
       "2        4          3        2       2       3        3          6   12   13   \n",
       "3        3          2        2       1       1        5          0   14   14   \n",
       "4        4          3        2       1       2        5          0   11   13   \n",
       "\n",
       "  G3_y  \n",
       "0   11  \n",
       "1   11  \n",
       "2   12  \n",
       "3   14  \n",
       "4   13  \n",
       "\n",
       "[5 rows x 53 columns]"
      ]
     },
     "execution_count": 8,
     "metadata": {},
     "output_type": "execute_result"
    }
   ],
   "source": [
    "df3.head()"
   ]
  },
  {
   "cell_type": "markdown",
   "id": "c5a8a42b",
   "metadata": {},
   "source": [
    "the _x attributes are for Maths\n",
    "the _y attributes are for Portuguese"
   ]
  },
  {
   "cell_type": "code",
   "execution_count": 9,
   "id": "603f28f4",
   "metadata": {
    "scrolled": true
   },
   "outputs": [
    {
     "name": "stdout",
     "output_type": "stream",
     "text": [
      "<class 'pandas.core.frame.DataFrame'>\n",
      "RangeIndex: 382 entries, 0 to 381\n",
      "Data columns (total 53 columns):\n",
      " #   Column        Non-Null Count  Dtype \n",
      "---  ------        --------------  ----- \n",
      " 0   school        382 non-null    object\n",
      " 1   sex           382 non-null    object\n",
      " 2   age           382 non-null    int64 \n",
      " 3   address       382 non-null    object\n",
      " 4   famsize       382 non-null    object\n",
      " 5   Pstatus       382 non-null    object\n",
      " 6   Medu          382 non-null    int64 \n",
      " 7   Fedu          382 non-null    int64 \n",
      " 8   Mjob          382 non-null    object\n",
      " 9   Fjob          382 non-null    object\n",
      " 10  reason        382 non-null    object\n",
      " 11  guardian_x    382 non-null    object\n",
      " 12  traveltime_x  382 non-null    int64 \n",
      " 13  studytime_x   382 non-null    int64 \n",
      " 14  failures_x    382 non-null    int64 \n",
      " 15  schoolsup_x   382 non-null    object\n",
      " 16  famsup_x      382 non-null    object\n",
      " 17  paid_x        382 non-null    object\n",
      " 18  activities_x  382 non-null    object\n",
      " 19  nursery       382 non-null    object\n",
      " 20  higher_x      382 non-null    object\n",
      " 21  internet      382 non-null    object\n",
      " 22  romantic_x    382 non-null    object\n",
      " 23  famrel_x      382 non-null    int64 \n",
      " 24  freetime_x    382 non-null    int64 \n",
      " 25  goout_x       382 non-null    int64 \n",
      " 26  Dalc_x        382 non-null    int64 \n",
      " 27  Walc_x        382 non-null    int64 \n",
      " 28  health_x      382 non-null    int64 \n",
      " 29  absences_x    382 non-null    int64 \n",
      " 30  G1_x          382 non-null    int64 \n",
      " 31  G2_x          382 non-null    int64 \n",
      " 32  G3_x          382 non-null    int64 \n",
      " 33  guardian_y    382 non-null    object\n",
      " 34  traveltime_y  382 non-null    int64 \n",
      " 35  studytime_y   382 non-null    int64 \n",
      " 36  failures_y    382 non-null    int64 \n",
      " 37  schoolsup_y   382 non-null    object\n",
      " 38  famsup_y      382 non-null    object\n",
      " 39  paid_y        382 non-null    object\n",
      " 40  activities_y  382 non-null    object\n",
      " 41  higher_y      382 non-null    object\n",
      " 42  romantic_y    382 non-null    object\n",
      " 43  famrel_y      382 non-null    int64 \n",
      " 44  freetime_y    382 non-null    int64 \n",
      " 45  goout_y       382 non-null    int64 \n",
      " 46  Dalc_y        382 non-null    int64 \n",
      " 47  Walc_y        382 non-null    int64 \n",
      " 48  health_y      382 non-null    int64 \n",
      " 49  absences_y    382 non-null    int64 \n",
      " 50  G1_y          382 non-null    int64 \n",
      " 51  G2_y          382 non-null    int64 \n",
      " 52  G3_y          382 non-null    int64 \n",
      "dtypes: int64(29), object(24)\n",
      "memory usage: 158.3+ KB\n"
     ]
    }
   ],
   "source": [
    "df3.info()"
   ]
  },
  {
   "cell_type": "code",
   "execution_count": 10,
   "id": "f447b51b",
   "metadata": {},
   "outputs": [
    {
     "data": {
      "text/plain": [
       "school          0\n",
       "sex             0\n",
       "age             0\n",
       "address         0\n",
       "famsize         0\n",
       "Pstatus         0\n",
       "Medu            0\n",
       "Fedu            0\n",
       "Mjob            0\n",
       "Fjob            0\n",
       "reason          0\n",
       "guardian_x      0\n",
       "traveltime_x    0\n",
       "studytime_x     0\n",
       "failures_x      0\n",
       "schoolsup_x     0\n",
       "famsup_x        0\n",
       "paid_x          0\n",
       "activities_x    0\n",
       "nursery         0\n",
       "higher_x        0\n",
       "internet        0\n",
       "romantic_x      0\n",
       "famrel_x        0\n",
       "freetime_x      0\n",
       "goout_x         0\n",
       "Dalc_x          0\n",
       "Walc_x          0\n",
       "health_x        0\n",
       "absences_x      0\n",
       "G1_x            0\n",
       "G2_x            0\n",
       "G3_x            0\n",
       "guardian_y      0\n",
       "traveltime_y    0\n",
       "studytime_y     0\n",
       "failures_y      0\n",
       "schoolsup_y     0\n",
       "famsup_y        0\n",
       "paid_y          0\n",
       "activities_y    0\n",
       "higher_y        0\n",
       "romantic_y      0\n",
       "famrel_y        0\n",
       "freetime_y      0\n",
       "goout_y         0\n",
       "Dalc_y          0\n",
       "Walc_y          0\n",
       "health_y        0\n",
       "absences_y      0\n",
       "G1_y            0\n",
       "G2_y            0\n",
       "G3_y            0\n",
       "dtype: int64"
      ]
     },
     "execution_count": 10,
     "metadata": {},
     "output_type": "execute_result"
    }
   ],
   "source": [
    "df3.isnull().sum()"
   ]
  },
  {
   "cell_type": "code",
   "execution_count": 11,
   "id": "2b001ff3",
   "metadata": {},
   "outputs": [
    {
     "data": {
      "text/html": [
       "<div>\n",
       "<style scoped>\n",
       "    .dataframe tbody tr th:only-of-type {\n",
       "        vertical-align: middle;\n",
       "    }\n",
       "\n",
       "    .dataframe tbody tr th {\n",
       "        vertical-align: top;\n",
       "    }\n",
       "\n",
       "    .dataframe thead th {\n",
       "        text-align: right;\n",
       "    }\n",
       "</style>\n",
       "<table border=\"1\" class=\"dataframe\">\n",
       "  <thead>\n",
       "    <tr style=\"text-align: right;\">\n",
       "      <th></th>\n",
       "      <th>G1_x</th>\n",
       "      <th>G2_x</th>\n",
       "      <th>G3_x</th>\n",
       "      <th>G1_y</th>\n",
       "      <th>G2_y</th>\n",
       "      <th>G3_y</th>\n",
       "    </tr>\n",
       "  </thead>\n",
       "  <tbody>\n",
       "    <tr>\n",
       "      <th>count</th>\n",
       "      <td>382.000000</td>\n",
       "      <td>382.000000</td>\n",
       "      <td>382.000000</td>\n",
       "      <td>382.000000</td>\n",
       "      <td>382.000000</td>\n",
       "      <td>382.000000</td>\n",
       "    </tr>\n",
       "    <tr>\n",
       "      <th>mean</th>\n",
       "      <td>10.861257</td>\n",
       "      <td>10.712042</td>\n",
       "      <td>10.387435</td>\n",
       "      <td>12.112565</td>\n",
       "      <td>12.238220</td>\n",
       "      <td>12.515707</td>\n",
       "    </tr>\n",
       "    <tr>\n",
       "      <th>std</th>\n",
       "      <td>3.349167</td>\n",
       "      <td>3.832560</td>\n",
       "      <td>4.687242</td>\n",
       "      <td>2.556531</td>\n",
       "      <td>2.468341</td>\n",
       "      <td>2.945438</td>\n",
       "    </tr>\n",
       "    <tr>\n",
       "      <th>min</th>\n",
       "      <td>3.000000</td>\n",
       "      <td>0.000000</td>\n",
       "      <td>0.000000</td>\n",
       "      <td>0.000000</td>\n",
       "      <td>5.000000</td>\n",
       "      <td>0.000000</td>\n",
       "    </tr>\n",
       "    <tr>\n",
       "      <th>25%</th>\n",
       "      <td>8.000000</td>\n",
       "      <td>8.250000</td>\n",
       "      <td>8.000000</td>\n",
       "      <td>10.000000</td>\n",
       "      <td>11.000000</td>\n",
       "      <td>11.000000</td>\n",
       "    </tr>\n",
       "    <tr>\n",
       "      <th>50%</th>\n",
       "      <td>10.500000</td>\n",
       "      <td>11.000000</td>\n",
       "      <td>11.000000</td>\n",
       "      <td>12.000000</td>\n",
       "      <td>12.000000</td>\n",
       "      <td>13.000000</td>\n",
       "    </tr>\n",
       "    <tr>\n",
       "      <th>75%</th>\n",
       "      <td>13.000000</td>\n",
       "      <td>13.000000</td>\n",
       "      <td>14.000000</td>\n",
       "      <td>14.000000</td>\n",
       "      <td>14.000000</td>\n",
       "      <td>14.000000</td>\n",
       "    </tr>\n",
       "    <tr>\n",
       "      <th>max</th>\n",
       "      <td>19.000000</td>\n",
       "      <td>19.000000</td>\n",
       "      <td>20.000000</td>\n",
       "      <td>19.000000</td>\n",
       "      <td>19.000000</td>\n",
       "      <td>19.000000</td>\n",
       "    </tr>\n",
       "  </tbody>\n",
       "</table>\n",
       "</div>"
      ],
      "text/plain": [
       "             G1_x        G2_x        G3_x        G1_y        G2_y        G3_y\n",
       "count  382.000000  382.000000  382.000000  382.000000  382.000000  382.000000\n",
       "mean    10.861257   10.712042   10.387435   12.112565   12.238220   12.515707\n",
       "std      3.349167    3.832560    4.687242    2.556531    2.468341    2.945438\n",
       "min      3.000000    0.000000    0.000000    0.000000    5.000000    0.000000\n",
       "25%      8.000000    8.250000    8.000000   10.000000   11.000000   11.000000\n",
       "50%     10.500000   11.000000   11.000000   12.000000   12.000000   13.000000\n",
       "75%     13.000000   13.000000   14.000000   14.000000   14.000000   14.000000\n",
       "max     19.000000   19.000000   20.000000   19.000000   19.000000   19.000000"
      ]
     },
     "execution_count": 11,
     "metadata": {},
     "output_type": "execute_result"
    }
   ],
   "source": [
    "# Check grades distribution\n",
    "(df3[['G1_x','G2_x','G3_x','G1_y','G2_y','G3_y']].describe())"
   ]
  },
  {
   "cell_type": "code",
   "execution_count": 12,
   "id": "f3d79cca",
   "metadata": {},
   "outputs": [
    {
     "name": "stdout",
     "output_type": "stream",
     "text": [
      "          G1_x      G2_x      G3_x      G1_y      G2_y      G3_y\n",
      "G1_x  1.000000  0.860395  0.805129  0.568008  0.588829  0.550844\n",
      "G2_x  0.860395  1.000000  0.903027  0.525944  0.569656  0.507500\n",
      "G3_x  0.805129  0.903027  1.000000  0.495305  0.535552  0.480349\n",
      "G1_y  0.568008  0.525944  0.495305  1.000000  0.887906  0.819048\n",
      "G2_y  0.588829  0.569656  0.535552  0.887906  1.000000  0.892444\n",
      "G3_y  0.550844  0.507500  0.480349  0.819048  0.892444  1.000000\n"
     ]
    },
    {
     "data": {
      "image/png": "[encoded data removed]",
      "text/plain": [
       "<Figure size 800x600 with 2 Axes>"
      ]
     },
     "metadata": {},
     "output_type": "display_data"
    }
   ],
   "source": [
    "# Compute correlation matrix for grades\n",
    "grades_corr = df3[['G1_x','G2_x','G3_x','G1_y','G2_y','G3_y']].corr()\n",
    "print(grades_corr)\n",
    "\n",
    "# Plot heatmap\n",
    "plt.figure(figsize=(8,6))\n",
    "sns.heatmap(grades_corr, annot=True, cmap='coolwarm')\n",
    "plt.title(\"Correlation Between Math and Portuguese Grades\")\n",
    "plt.show()\n"
   ]
  },
  {
   "cell_type": "code",
   "execution_count": 13,
   "id": "350a232e",
   "metadata": {},
   "outputs": [
    {
     "data": {
      "image/png": "[encoded data removed]",
      "text/plain": [
       "<Figure size 1000x400 with 2 Axes>"
      ]
     },
     "metadata": {},
     "output_type": "display_data"
    }
   ],
   "source": [
    "plt.figure(figsize=(10,4))\n",
    "\n",
    "# Math\n",
    "plt.subplot(1,2,1)\n",
    "sns.boxplot(x='studytime_x', y='G3_x', data=df3)\n",
    "plt.title(\"Math Final Grade vs Study Time\")\n",
    "\n",
    "# Portuguese\n",
    "plt.subplot(1,2,2)\n",
    "sns.boxplot(x='studytime_y', y='G3_y', data=df3)\n",
    "plt.title(\"Portuguese Final Grade vs Study Time\")\n",
    "\n",
    "plt.tight_layout()\n",
    "plt.show()\n"
   ]
  },
  {
   "cell_type": "code",
   "execution_count": 14,
   "id": "e738d783",
   "metadata": {},
   "outputs": [
    {
     "data": {
      "image/png": "[encoded data removed]",
      "text/plain": [
       "<Figure size 1000x400 with 1 Axes>"
      ]
     },
     "metadata": {},
     "output_type": "display_data"
    },
    {
     "data": {
      "image/png": "[encoded data removed]",
      "text/plain": [
       "<Figure size 640x480 with 1 Axes>"
      ]
     },
     "metadata": {},
     "output_type": "display_data"
    }
   ],
   "source": [
    "plt.figure(figsize=(10,4))\n",
    "\n",
    "sns.boxplot(x='sex', y='G3_x', data=df3)\n",
    "plt.title(\"Math Grade by Gender\")\n",
    "plt.show()\n",
    "\n",
    "sns.boxplot(x='sex', y='G3_y', data=df3)\n",
    "plt.title(\"Portuguese Grade by Gender\")\n",
    "plt.show()\n"
   ]
  },
  {
   "cell_type": "code",
   "execution_count": 15,
   "id": "6a0d4e5f",
   "metadata": {},
   "outputs": [
    {
     "data": {
      "image/png": "[encoded data removed]",
      "text/plain": [
       "<Figure size 600x600 with 1 Axes>"
      ]
     },
     "metadata": {},
     "output_type": "display_data"
    }
   ],
   "source": [
    "plt.figure(figsize=(6,6))\n",
    "sns.scatterplot(x='G3_x', y='G3_y', data=df3)\n",
    "plt.title(\"Math vs Portuguese Final Grades\")\n",
    "plt.xlabel(\"G3 Math\")\n",
    "plt.ylabel(\"G3 Portuguese\")\n",
    "plt.show()\n"
   ]
  },
  {
   "cell_type": "code",
   "execution_count": 16,
   "id": "162e9bd8",
   "metadata": {},
   "outputs": [
    {
     "name": "stdout",
     "output_type": "stream",
     "text": [
      "pass_math\n",
      "1    265\n",
      "0    130\n",
      "Name: count, dtype: int64\n"
     ]
    }
   ],
   "source": [
    "# Create a new column 'pass_math' in the merged dataset\n",
    "df1['pass_math'] = df1['G3'].apply(lambda x: 1 if x >= 10 else 0)\n",
    "\n",
    "# Check distribution\n",
    "print(df1['pass_math'].value_counts())\n"
   ]
  },
  {
   "cell_type": "code",
   "execution_count": 17,
   "id": "d15265e1",
   "metadata": {},
   "outputs": [
    {
     "data": {
      "text/plain": [
       "Index(['school', 'sex', 'age', 'address', 'famsize', 'Pstatus', 'Medu', 'Fedu',\n",
       "       'Mjob', 'Fjob', 'reason', 'guardian', 'traveltime', 'studytime',\n",
       "       'failures', 'schoolsup', 'famsup', 'paid', 'activities', 'nursery',\n",
       "       'higher', 'internet', 'romantic', 'famrel', 'freetime', 'goout', 'Dalc',\n",
       "       'Walc', 'health', 'absences', 'G1', 'G2', 'G3', 'pass_math'],\n",
       "      dtype='object')"
      ]
     },
     "execution_count": 17,
     "metadata": {},
     "output_type": "execute_result"
    }
   ],
   "source": [
    "df1.columns"
   ]
  },
  {
   "cell_type": "code",
   "execution_count": 18,
   "id": "85791be9",
   "metadata": {},
   "outputs": [
    {
     "name": "stdout",
     "output_type": "stream",
     "text": [
      "<class 'pandas.core.frame.DataFrame'>\n",
      "RangeIndex: 395 entries, 0 to 394\n",
      "Data columns (total 34 columns):\n",
      " #   Column      Non-Null Count  Dtype \n",
      "---  ------      --------------  ----- \n",
      " 0   school      395 non-null    object\n",
      " 1   sex         395 non-null    object\n",
      " 2   age         395 non-null    int64 \n",
      " 3   address     395 non-null    object\n",
      " 4   famsize     395 non-null    object\n",
      " 5   Pstatus     395 non-null    object\n",
      " 6   Medu        395 non-null    int64 \n",
      " 7   Fedu        395 non-null    int64 \n",
      " 8   Mjob        395 non-null    object\n",
      " 9   Fjob        395 non-null    object\n",
      " 10  reason      395 non-null    object\n",
      " 11  guardian    395 non-null    object\n",
      " 12  traveltime  395 non-null    int64 \n",
      " 13  studytime   395 non-null    int64 \n",
      " 14  failures    395 non-null    int64 \n",
      " 15  schoolsup   395 non-null    object\n",
      " 16  famsup      395 non-null    object\n",
      " 17  paid        395 non-null    object\n",
      " 18  activities  395 non-null    object\n",
      " 19  nursery     395 non-null    object\n",
      " 20  higher      395 non-null    object\n",
      " 21  internet    395 non-null    object\n",
      " 22  romantic    395 non-null    object\n",
      " 23  famrel      395 non-null    int64 \n",
      " 24  freetime    395 non-null    int64 \n",
      " 25  goout       395 non-null    int64 \n",
      " 26  Dalc        395 non-null    int64 \n",
      " 27  Walc        395 non-null    int64 \n",
      " 28  health      395 non-null    int64 \n",
      " 29  absences    395 non-null    int64 \n",
      " 30  G1          395 non-null    int64 \n",
      " 31  G2          395 non-null    int64 \n",
      " 32  G3          395 non-null    int64 \n",
      " 33  pass_math   395 non-null    int64 \n",
      "dtypes: int64(17), object(17)\n",
      "memory usage: 105.0+ KB\n"
     ]
    }
   ],
   "source": [
    "df1.info()"
   ]
  },
  {
   "cell_type": "code",
   "execution_count": 19,
   "id": "1563fedf",
   "metadata": {},
   "outputs": [],
   "source": [
    "categorical_cols = [\n",
    "    'school', 'sex', 'address', 'famsize', 'Pstatus', \n",
    "    'Mjob', 'Fjob', 'reason', 'guardian', 'schoolsup', \n",
    "    'famsup', 'paid', 'activities', 'nursery', 'higher', \n",
    "    'internet', 'romantic'\n",
    "]\n"
   ]
  },
  {
   "cell_type": "code",
   "execution_count": 20,
   "id": "27db7773",
   "metadata": {},
   "outputs": [],
   "source": [
    "# One-hot encode categorical variables\n",
    "df1_encoded = pd.get_dummies(df1, columns=categorical_cols, drop_first=True)"
   ]
  },
  {
   "cell_type": "code",
   "execution_count": 21,
   "id": "deb3b734",
   "metadata": {},
   "outputs": [],
   "source": [
    "X_math = df1_encoded.drop(columns=['G1','G2','G3','pass_math'])"
   ]
  },
  {
   "cell_type": "code",
   "execution_count": 22,
   "id": "eaa852f0",
   "metadata": {},
   "outputs": [],
   "source": [
    "y_math = df1_encoded['pass_math']"
   ]
  },
  {
   "cell_type": "code",
   "execution_count": null,
   "id": "6d45940e",
   "metadata": {},
   "outputs": [],
   "source": []
  },
  {
   "cell_type": "markdown",
   "id": "b4642501",
   "metadata": {},
   "source": [
    "### **logistic regression from scratch using gradient descent**"
   ]
  },
  {
   "cell_type": "markdown",
   "id": "d94b0421",
   "metadata": {},
   "source": [
    "1. ### **Math**"
   ]
  },
  {
   "cell_type": "code",
   "execution_count": 23,
   "id": "dd7e55d3",
   "metadata": {
    "collapsed": true,
    "jupyter": {
     "outputs_hidden": true
    }
   },
   "outputs": [
    {
     "name": "stdout",
     "output_type": "stream",
     "text": [
      "age                  int64\n",
      "Medu                 int64\n",
      "Fedu                 int64\n",
      "traveltime           int64\n",
      "studytime            int64\n",
      "failures             int64\n",
      "famrel               int64\n",
      "freetime             int64\n",
      "goout                int64\n",
      "Dalc                 int64\n",
      "Walc                 int64\n",
      "health               int64\n",
      "absences             int64\n",
      "school_MS             bool\n",
      "sex_M                 bool\n",
      "address_U             bool\n",
      "famsize_LE3           bool\n",
      "Pstatus_T             bool\n",
      "Mjob_health           bool\n",
      "Mjob_other            bool\n",
      "Mjob_services         bool\n",
      "Mjob_teacher          bool\n",
      "Fjob_health           bool\n",
      "Fjob_other            bool\n",
      "Fjob_services         bool\n",
      "Fjob_teacher          bool\n",
      "reason_home           bool\n",
      "reason_other          bool\n",
      "reason_reputation     bool\n",
      "guardian_mother       bool\n",
      "guardian_other        bool\n",
      "schoolsup_yes         bool\n",
      "famsup_yes            bool\n",
      "paid_yes              bool\n",
      "activities_yes        bool\n",
      "nursery_yes           bool\n",
      "higher_yes            bool\n",
      "internet_yes          bool\n",
      "romantic_yes          bool\n",
      "dtype: object\n"
     ]
    }
   ],
   "source": [
    "# Check datatypes\n",
    "print(X_math.dtypes)\n",
    "\n",
    "# Ensure all features are numeric\n",
    "X_math = X_math.apply(pd.to_numeric, errors='coerce').fillna(0)\n"
   ]
  },
  {
   "cell_type": "code",
   "execution_count": 24,
   "id": "be63d8c0",
   "metadata": {},
   "outputs": [],
   "source": [
    "\n",
    "X = X_math.values  # convert to numpy array\n",
    "y = y_math.values.reshape(-1,1)  # column vector"
   ]
  },
  {
   "cell_type": "code",
   "execution_count": null,
   "id": "7105755a",
   "metadata": {},
   "outputs": [],
   "source": []
  },
  {
   "cell_type": "code",
   "execution_count": 25,
   "id": "059b3bf0",
   "metadata": {},
   "outputs": [],
   "source": [
    "# Make sure dtype is float\n",
    "X = X.astype(float)\n",
    "y = y.astype(float)"
   ]
  },
  {
   "cell_type": "code",
   "execution_count": 26,
   "id": "b7c4e83b",
   "metadata": {},
   "outputs": [],
   "source": [
    "# Add bias term (column of 1s)\n",
    "X = np.hstack((np.ones((X.shape[0],1)), X))  \n"
   ]
  },
  {
   "cell_type": "code",
   "execution_count": 27,
   "id": "cd7eaff1",
   "metadata": {},
   "outputs": [],
   "source": [
    "#defining the sigmoid function\n",
    "\n",
    "def sigmoid(z):\n",
    "    return 1 / (1 + np.exp(-z))\n"
   ]
  },
  {
   "cell_type": "markdown",
   "id": "ed349b94",
   "metadata": {},
   "source": [
    "- Takes any number (z) → returns probability between 0 and 1"
   ]
  },
  {
   "cell_type": "code",
   "execution_count": 28,
   "id": "67971e67",
   "metadata": {},
   "outputs": [],
   "source": [
    "def compute_loss(y, y_pred):\n",
    "    # y = actual labels, y_pred = predicted probabilities\n",
    "    m = y.shape[0]\n",
    "    # Binary cross-entropy loss\n",
    "    loss = - (1/m) * np.sum(y*np.log(y_pred) + (1-y)*np.log(1-y_pred))\n",
    "    return loss\n"
   ]
  },
  {
   "cell_type": "code",
   "execution_count": null,
   "id": "f53de4b4",
   "metadata": {},
   "outputs": [],
   "source": []
  },
  {
   "cell_type": "code",
   "execution_count": 29,
   "id": "b8251c3d",
   "metadata": {},
   "outputs": [],
   "source": [
    "def gradient_descent(X, y, lr=0.01, n_iter=1000):\n",
    "    m, n = X.shape\n",
    "    theta = np.zeros((n,1))  # initialize weights\n",
    "    losses = []\n",
    "\n",
    "    for i in range(n_iter):\n",
    "        z = np.dot(X, theta)\n",
    "        y_pred = sigmoid(z)\n",
    "        \n",
    "        # Gradient\n",
    "        gradient = (1/m) * np.dot(X.T, (y_pred - y))\n",
    "        \n",
    "        # Update weights\n",
    "        theta -= lr * gradient\n",
    "        \n",
    "        # Compute loss\n",
    "        loss = compute_loss(y, y_pred)\n",
    "        losses.append(loss)\n",
    "        \n",
    "        if i % 100 == 0:\n",
    "            print(f\"Iteration {i}, Loss: {loss:.4f}\")\n",
    "            \n",
    "    return theta, losses\n"
   ]
  },
  {
   "cell_type": "code",
   "execution_count": 30,
   "id": "fe59be0f",
   "metadata": {},
   "outputs": [
    {
     "name": "stdout",
     "output_type": "stream",
     "text": [
      "Iteration 0, Loss: 0.6931\n",
      "Iteration 100, Loss: 0.6045\n",
      "Iteration 200, Loss: 0.5872\n",
      "Iteration 300, Loss: 0.5756\n",
      "Iteration 400, Loss: 0.5671\n",
      "Iteration 500, Loss: 0.5605\n",
      "Iteration 600, Loss: 0.5553\n",
      "Iteration 700, Loss: 0.5510\n",
      "Iteration 800, Loss: 0.5474\n",
      "Iteration 900, Loss: 0.5443\n",
      "Iteration 1000, Loss: 0.5417\n",
      "Iteration 1100, Loss: 0.5395\n",
      "Iteration 1200, Loss: 0.5375\n",
      "Iteration 1300, Loss: 0.5357\n",
      "Iteration 1400, Loss: 0.5341\n",
      "Iteration 1500, Loss: 0.5327\n",
      "Iteration 1600, Loss: 0.5314\n",
      "Iteration 1700, Loss: 0.5302\n",
      "Iteration 1800, Loss: 0.5291\n",
      "Iteration 1900, Loss: 0.5281\n"
     ]
    }
   ],
   "source": [
    "#training the model\n",
    "\n",
    "theta, losses = gradient_descent(X, y, lr=0.01, n_iter=2000)\n"
   ]
  },
  {
   "cell_type": "code",
   "execution_count": 31,
   "id": "91b1209f",
   "metadata": {},
   "outputs": [],
   "source": [
    "#make predictions\n",
    "def predict(X, theta, threshold=0.5):\n",
    "    probs = sigmoid(np.dot(X, theta))\n",
    "    return (probs >= threshold).astype(int)\n",
    "\n",
    "y_pred = predict(X, theta)\n"
   ]
  },
  {
   "cell_type": "code",
   "execution_count": 32,
   "id": "41e76f37",
   "metadata": {},
   "outputs": [
    {
     "name": "stdout",
     "output_type": "stream",
     "text": [
      "Training accuracy: 73.16%\n"
     ]
    }
   ],
   "source": [
    "#evaluate \n",
    "\n",
    "accuracy = np.mean(y_pred == y)\n",
    "print(f\"Training accuracy: {accuracy*100:.2f}%\")\n"
   ]
  },
  {
   "cell_type": "code",
   "execution_count": null,
   "id": "f31e2c49",
   "metadata": {},
   "outputs": [],
   "source": []
  },
  {
   "cell_type": "markdown",
   "id": "f3526c11",
   "metadata": {},
   "source": [
    "## feature importance"
   ]
  },
  {
   "cell_type": "code",
   "execution_count": 33,
   "id": "d26e8644",
   "metadata": {},
   "outputs": [
    {
     "name": "stdout",
     "output_type": "stream",
     "text": [
      "              feature    weight  abs_weight\n",
      "5            failures -0.713521    0.713521\n",
      "8               goout -0.452907    0.452907\n",
      "32         famsup_yes -0.254368    0.254368\n",
      "31      schoolsup_yes -0.235960    0.235960\n",
      "20      Mjob_services  0.227972    0.227972\n",
      "10               Walc  0.225774    0.225774\n",
      "14              sex_M  0.219689    0.219689\n",
      "21       Mjob_teacher -0.203412    0.203412\n",
      "36         higher_yes  0.195589    0.195589\n",
      "6              famrel  0.194066    0.194066\n",
      "4           studytime  0.181706    0.181706\n",
      "38       romantic_yes -0.176006    0.176006\n",
      "37       internet_yes  0.150665    0.150665\n",
      "28  reason_reputation  0.146510    0.146510\n",
      "15          address_U  0.141254    0.141254\n",
      "18        Mjob_health  0.141006    0.141006\n",
      "16        famsize_LE3  0.135441    0.135441\n",
      "23         Fjob_other  0.134224    0.134224\n",
      "1                Medu  0.132420    0.132420\n",
      "7            freetime  0.125786    0.125786\n",
      "27       reason_other  0.124626    0.124626\n",
      "33           paid_yes  0.123965    0.123965\n",
      "19         Mjob_other -0.108432    0.108432\n",
      "2                Fedu  0.105092    0.105092\n",
      "35        nursery_yes -0.093715    0.093715\n",
      "11             health -0.090878    0.090878\n",
      "26        reason_home  0.085686    0.085686\n",
      "30     guardian_other -0.077859    0.077859\n",
      "24      Fjob_services -0.071697    0.071697\n",
      "9                Dalc -0.064986    0.064986\n",
      "25       Fjob_teacher  0.061317    0.061317\n",
      "17          Pstatus_T -0.058937    0.058937\n",
      "3          traveltime  0.045600    0.045600\n",
      "34     activities_yes -0.033614    0.033614\n",
      "22        Fjob_health -0.020650    0.020650\n",
      "13          school_MS -0.019505    0.019505\n",
      "12           absences -0.019383    0.019383\n",
      "0                 age -0.013270    0.013270\n",
      "29    guardian_mother  0.007284    0.007284\n"
     ]
    }
   ],
   "source": [
    "# Assuming theta is the vector of weights from gradient descent\n",
    "# Remember: the first weight is the bias (intercept)\n",
    "feature_names = X_math.columns\n",
    "weights = theta[1:].flatten()  # exclude bias\n",
    "\n",
    "# Create DataFrame for easy visualization\n",
    "feature_importance = pd.DataFrame({\n",
    "    'feature': feature_names,\n",
    "    'weight': weights,\n",
    "    'abs_weight': np.abs(weights)\n",
    "}).sort_values(by='abs_weight', ascending=False)\n",
    "\n",
    "print(feature_importance)\n"
   ]
  },
  {
   "cell_type": "code",
   "execution_count": 34,
   "id": "e90f3db0",
   "metadata": {},
   "outputs": [
    {
     "data": {
      "image/png": "[encoded data removed]",
      "text/plain": [
       "<Figure size 1000x600 with 1 Axes>"
      ]
     },
     "metadata": {},
     "output_type": "display_data"
    }
   ],
   "source": [
    "import matplotlib.pyplot as plt\n",
    "\n",
    "plt.figure(figsize=(10,6))\n",
    "plt.barh(feature_importance['feature'], feature_importance['abs_weight'])\n",
    "plt.xlabel(\"Absolute Weight\")\n",
    "plt.title(\"Feature Importance in Logistic Regression (Math)\")\n",
    "plt.gca().invert_yaxis()\n",
    "plt.show()\n"
   ]
  },
  {
   "cell_type": "code",
   "execution_count": 35,
   "id": "e9d69dce",
   "metadata": {},
   "outputs": [],
   "source": [
    "from sklearn.model_selection import train_test_split\n",
    "\n",
    "X_train, X_test, y_train, y_test = train_test_split(\n",
    "    X, y, test_size=0.2, random_state=42\n",
    ")\n"
   ]
  },
  {
   "cell_type": "code",
   "execution_count": 36,
   "id": "3c22c7ab",
   "metadata": {},
   "outputs": [
    {
     "name": "stdout",
     "output_type": "stream",
     "text": [
      "Iteration 0, Loss: 0.6931\n",
      "Iteration 100, Loss: 0.6019\n",
      "Iteration 200, Loss: 0.5838\n",
      "Iteration 300, Loss: 0.5719\n",
      "Iteration 400, Loss: 0.5632\n",
      "Iteration 500, Loss: 0.5564\n",
      "Iteration 600, Loss: 0.5508\n",
      "Iteration 700, Loss: 0.5462\n",
      "Iteration 800, Loss: 0.5423\n",
      "Iteration 900, Loss: 0.5389\n",
      "Iteration 1000, Loss: 0.5359\n",
      "Iteration 1100, Loss: 0.5333\n",
      "Iteration 1200, Loss: 0.5309\n",
      "Iteration 1300, Loss: 0.5288\n",
      "Iteration 1400, Loss: 0.5269\n",
      "Iteration 1500, Loss: 0.5251\n",
      "Iteration 1600, Loss: 0.5235\n",
      "Iteration 1700, Loss: 0.5221\n",
      "Iteration 1800, Loss: 0.5207\n",
      "Iteration 1900, Loss: 0.5194\n"
     ]
    }
   ],
   "source": [
    "theta_train, losses_train = gradient_descent(X_train, y_train, lr=0.01, n_iter=2000)\n"
   ]
  },
  {
   "cell_type": "code",
   "execution_count": 37,
   "id": "57d09fde",
   "metadata": {},
   "outputs": [
    {
     "name": "stdout",
     "output_type": "stream",
     "text": [
      "Training accuracy: 0.7436708860759493\n",
      "Test accuracy: 0.7215189873417721\n"
     ]
    }
   ],
   "source": [
    "def accuracy(y_true, y_pred):\n",
    "    return np.mean(y_true == y_pred)\n",
    "\n",
    "y_train_pred = predict(X_train, theta_train)\n",
    "y_test_pred = predict(X_test, theta_train)\n",
    "\n",
    "print(\"Training accuracy:\", accuracy(y_train, y_train_pred))\n",
    "print(\"Test accuracy:\", accuracy(y_test, y_test_pred))\n"
   ]
  },
  {
   "cell_type": "markdown",
   "id": "fc6f940b",
   "metadata": {},
   "source": [
    "#### Regularization on mathematical Log Reg"
   ]
  },
  {
   "cell_type": "code",
   "execution_count": 38,
   "id": "4a943a45-4d65-4fca-a0dc-8b932f5040ba",
   "metadata": {},
   "outputs": [
    {
     "name": "stdout",
     "output_type": "stream",
     "text": [
      "Training accuracy after regularization: 0.9367088607594937\n",
      "Test accuracy after regularization:: 0.9113924050632911\n"
     ]
    }
   ],
   "source": [
    "df1 = pd.read_csv(\"../DATA/student+performance/student/student-mat.csv\", sep=\";\")\n",
    "df1['pass_math'] = df1['G3'].apply(lambda x: 1 if x >= 10 else 0)\n",
    "\n",
    "# Prepare feature matrix X and target vector y\n",
    "X_math = df1.drop(columns=['G3', 'pass_math'])  # Drop target and any non-feature columns\n",
    "y_math = df1['pass_math']\n",
    "\n",
    "# Ensure all features are numeric\n",
    "X_math = X_math.apply(pd.to_numeric, errors='coerce').fillna(0)\n",
    "\n",
    "X = X_math.values  # Convert features to a numpy array\n",
    "y = y_math.values.reshape(-1, 1)  # Convert target to a column vector\n",
    "\n",
    "# Ensure dtype is float\n",
    "X = X.astype(float)\n",
    "y = y.astype(float)\n",
    "\n",
    "def sigmoid(z):\n",
    "    return 1 / (1 + np.exp(-z))\n",
    "\n",
    "def compute_loss(X, y, theta, lambda_reg=0.01):\n",
    "    m = len(y)\n",
    "    predictions = sigmoid(X @ theta)\n",
    "    \n",
    "    # Compute the loss with L2 regularization\n",
    "    loss = (-1 / m) * (y.T @ np.log(predictions + 1e-15) + (1 - y).T @ np.log(1 - predictions + 1e-15))\n",
    "    reg_loss = (lambda_reg / (2 * m)) * np.sum(np.square(theta[1:]))  # Regularization term\n",
    "    return loss + reg_loss\n",
    "\n",
    "def gradient_descent(X, y, lr=0.01, n_iter=1000, lambda_reg=0.01):\n",
    "    m, n = X.shape\n",
    "    theta = np.zeros((n, 1))  # Ensure theta is a column vector\n",
    "    losses = []\n",
    "\n",
    "    for _ in range(n_iter):\n",
    "        predictions = sigmoid(X @ theta)\n",
    "        error = predictions - y\n",
    "        \n",
    "        # Compute gradient with L2 regularization\n",
    "        gradient = (1 / m) * (X.T @ error) + (lambda_reg / m) * np.vstack(([0], theta[1:]))  # Regularization term\n",
    "        \n",
    "        theta -= lr * gradient\n",
    "\n",
    "        loss = compute_loss(X, y, theta, lambda_reg)\n",
    "        losses.append(loss)\n",
    "\n",
    "    return theta, losses\n",
    "\n",
    "def predict(X, theta):\n",
    "    return (sigmoid(X @ theta) >= 0.5).astype(int)\n",
    "\n",
    "def accuracy(y_true, y_pred):\n",
    "    return np.mean(y_true.flatten() == y_pred.flatten())\n",
    "\n",
    "# Split the data\n",
    "X_train, X_test, y_train, y_test = train_test_split(X, y, test_size=0.2, random_state=42)\n",
    "\n",
    "# Train the model with regularization\n",
    "theta_train, losses_train = gradient_descent(X_train, y_train, lr=0.01, n_iter=2000, lambda_reg=0.1)\n",
    "\n",
    "# Make predictions\n",
    "y_train_pred = predict(X_train, theta_train)\n",
    "y_test_pred = predict(X_test, theta_train)\n",
    "\n",
    "# Print accuracies\n",
    "print(\"Training accuracy after regularization:\", accuracy(y_train, y_train_pred))\n",
    "print(\"Test accuracy after regularization::\", accuracy(y_test, y_test_pred))"
   ]
  },
  {
   "cell_type": "markdown",
   "id": "662d43f8-0ea6-4ca5-9aa9-382077105307",
   "metadata": {},
   "source": [
    "#### Scikit-Learn Logistic Regression"
   ]
  },
  {
   "cell_type": "code",
   "execution_count": 39,
   "id": "07761c57-6eab-4421-8f17-524a53e1f7aa",
   "metadata": {},
   "outputs": [
    {
     "data": {
      "text/html": [
       "<div>\n",
       "<style scoped>\n",
       "    .dataframe tbody tr th:only-of-type {\n",
       "        vertical-align: middle;\n",
       "    }\n",
       "\n",
       "    .dataframe tbody tr th {\n",
       "        vertical-align: top;\n",
       "    }\n",
       "\n",
       "    .dataframe thead th {\n",
       "        text-align: right;\n",
       "    }\n",
       "</style>\n",
       "<table border=\"1\" class=\"dataframe\">\n",
       "  <thead>\n",
       "    <tr style=\"text-align: right;\">\n",
       "      <th></th>\n",
       "      <th>age</th>\n",
       "      <th>Medu</th>\n",
       "      <th>Fedu</th>\n",
       "      <th>traveltime</th>\n",
       "      <th>studytime</th>\n",
       "      <th>failures</th>\n",
       "      <th>famrel</th>\n",
       "      <th>freetime</th>\n",
       "      <th>goout</th>\n",
       "      <th>Dalc</th>\n",
       "      <th>...</th>\n",
       "      <th>guardian_mother</th>\n",
       "      <th>guardian_other</th>\n",
       "      <th>schoolsup_yes</th>\n",
       "      <th>famsup_yes</th>\n",
       "      <th>paid_yes</th>\n",
       "      <th>activities_yes</th>\n",
       "      <th>nursery_yes</th>\n",
       "      <th>higher_yes</th>\n",
       "      <th>internet_yes</th>\n",
       "      <th>romantic_yes</th>\n",
       "    </tr>\n",
       "  </thead>\n",
       "  <tbody>\n",
       "    <tr>\n",
       "      <th>0</th>\n",
       "      <td>18</td>\n",
       "      <td>4</td>\n",
       "      <td>4</td>\n",
       "      <td>2</td>\n",
       "      <td>2</td>\n",
       "      <td>0</td>\n",
       "      <td>4</td>\n",
       "      <td>3</td>\n",
       "      <td>4</td>\n",
       "      <td>1</td>\n",
       "      <td>...</td>\n",
       "      <td>True</td>\n",
       "      <td>False</td>\n",
       "      <td>True</td>\n",
       "      <td>False</td>\n",
       "      <td>False</td>\n",
       "      <td>False</td>\n",
       "      <td>True</td>\n",
       "      <td>True</td>\n",
       "      <td>False</td>\n",
       "      <td>False</td>\n",
       "    </tr>\n",
       "    <tr>\n",
       "      <th>1</th>\n",
       "      <td>17</td>\n",
       "      <td>1</td>\n",
       "      <td>1</td>\n",
       "      <td>1</td>\n",
       "      <td>2</td>\n",
       "      <td>0</td>\n",
       "      <td>5</td>\n",
       "      <td>3</td>\n",
       "      <td>3</td>\n",
       "      <td>1</td>\n",
       "      <td>...</td>\n",
       "      <td>False</td>\n",
       "      <td>False</td>\n",
       "      <td>False</td>\n",
       "      <td>True</td>\n",
       "      <td>False</td>\n",
       "      <td>False</td>\n",
       "      <td>False</td>\n",
       "      <td>True</td>\n",
       "      <td>True</td>\n",
       "      <td>False</td>\n",
       "    </tr>\n",
       "    <tr>\n",
       "      <th>2</th>\n",
       "      <td>15</td>\n",
       "      <td>1</td>\n",
       "      <td>1</td>\n",
       "      <td>1</td>\n",
       "      <td>2</td>\n",
       "      <td>3</td>\n",
       "      <td>4</td>\n",
       "      <td>3</td>\n",
       "      <td>2</td>\n",
       "      <td>2</td>\n",
       "      <td>...</td>\n",
       "      <td>True</td>\n",
       "      <td>False</td>\n",
       "      <td>True</td>\n",
       "      <td>False</td>\n",
       "      <td>True</td>\n",
       "      <td>False</td>\n",
       "      <td>True</td>\n",
       "      <td>True</td>\n",
       "      <td>True</td>\n",
       "      <td>False</td>\n",
       "    </tr>\n",
       "    <tr>\n",
       "      <th>3</th>\n",
       "      <td>15</td>\n",
       "      <td>4</td>\n",
       "      <td>2</td>\n",
       "      <td>1</td>\n",
       "      <td>3</td>\n",
       "      <td>0</td>\n",
       "      <td>3</td>\n",
       "      <td>2</td>\n",
       "      <td>2</td>\n",
       "      <td>1</td>\n",
       "      <td>...</td>\n",
       "      <td>True</td>\n",
       "      <td>False</td>\n",
       "      <td>False</td>\n",
       "      <td>True</td>\n",
       "      <td>True</td>\n",
       "      <td>True</td>\n",
       "      <td>True</td>\n",
       "      <td>True</td>\n",
       "      <td>True</td>\n",
       "      <td>True</td>\n",
       "    </tr>\n",
       "    <tr>\n",
       "      <th>4</th>\n",
       "      <td>16</td>\n",
       "      <td>3</td>\n",
       "      <td>3</td>\n",
       "      <td>1</td>\n",
       "      <td>2</td>\n",
       "      <td>0</td>\n",
       "      <td>4</td>\n",
       "      <td>3</td>\n",
       "      <td>2</td>\n",
       "      <td>1</td>\n",
       "      <td>...</td>\n",
       "      <td>False</td>\n",
       "      <td>False</td>\n",
       "      <td>False</td>\n",
       "      <td>True</td>\n",
       "      <td>True</td>\n",
       "      <td>False</td>\n",
       "      <td>True</td>\n",
       "      <td>True</td>\n",
       "      <td>False</td>\n",
       "      <td>False</td>\n",
       "    </tr>\n",
       "  </tbody>\n",
       "</table>\n",
       "<p>5 rows × 43 columns</p>\n",
       "</div>"
      ],
      "text/plain": [
       "   age  Medu  Fedu  traveltime  studytime  failures  famrel  freetime  goout  \\\n",
       "0   18     4     4           2          2         0       4         3      4   \n",
       "1   17     1     1           1          2         0       5         3      3   \n",
       "2   15     1     1           1          2         3       4         3      2   \n",
       "3   15     4     2           1          3         0       3         2      2   \n",
       "4   16     3     3           1          2         0       4         3      2   \n",
       "\n",
       "   Dalc  ...  guardian_mother  guardian_other  schoolsup_yes  famsup_yes  \\\n",
       "0     1  ...             True           False           True       False   \n",
       "1     1  ...            False           False          False        True   \n",
       "2     2  ...             True           False           True       False   \n",
       "3     1  ...             True           False          False        True   \n",
       "4     1  ...            False           False          False        True   \n",
       "\n",
       "   paid_yes  activities_yes  nursery_yes  higher_yes  internet_yes  \\\n",
       "0     False           False         True        True         False   \n",
       "1     False           False        False        True          True   \n",
       "2      True           False         True        True          True   \n",
       "3      True            True         True        True          True   \n",
       "4      True           False         True        True         False   \n",
       "\n",
       "   romantic_yes  \n",
       "0         False  \n",
       "1         False  \n",
       "2         False  \n",
       "3          True  \n",
       "4         False  \n",
       "\n",
       "[5 rows x 43 columns]"
      ]
     },
     "execution_count": 39,
     "metadata": {},
     "output_type": "execute_result"
    }
   ],
   "source": [
    "df1_encoded.head()"
   ]
  },
  {
   "cell_type": "code",
   "execution_count": 40,
   "id": "eedc5bc9-1f26-4fbc-805c-fce66de8dc31",
   "metadata": {},
   "outputs": [],
   "source": [
    "X_math = df1_encoded.drop(columns=['G1','G2','G3','pass_math'])\n",
    "y_math = df1_encoded['pass_math']"
   ]
  },
  {
   "cell_type": "code",
   "execution_count": 41,
   "id": "783bfbad-9bb4-4877-801e-247c7d759622",
   "metadata": {},
   "outputs": [
    {
     "name": "stdout",
     "output_type": "stream",
     "text": [
      "Test Score: 0.9292929292929293\n"
     ]
    },
    {
     "name": "stderr",
     "output_type": "stream",
     "text": [
      "c:\\Users\\THE EYE INFORMATIQUE\\Desktop\\Logistic-Regression-for-Student-Performance-Prediction\\venv\\lib\\site-packages\\sklearn\\utils\\validation.py:1406: DataConversionWarning: A column-vector y was passed when a 1d array was expected. Please change the shape of y to (n_samples, ), for example using ravel().\n",
      "  y = column_or_1d(y, warn=True)\n"
     ]
    }
   ],
   "source": [
    "from sklearn.preprocessing import StandardScaler\n",
    "from sklearn.pipeline import make_pipeline\n",
    "\n",
    "# Split the data\n",
    "X_train, X_test, y_train, y_test = train_test_split(X, y, random_state=42)\n",
    "\n",
    "# Create a pipeline with scaling and logistic regression\n",
    "pipe = make_pipeline(StandardScaler(), LogisticRegression(max_iter=200))\n",
    "\n",
    "# Fit the model\n",
    "pipe.fit(X_train, y_train)\n",
    "\n",
    "# Score the model\n",
    "print(f\"Test Score: {pipe.score(X_test, y_test)}\")\n"
   ]
  },
  {
   "cell_type": "code",
   "execution_count": null,
   "id": "ed68fdfd-f395-4930-bafa-fe07c7961944",
   "metadata": {},
   "outputs": [],
   "source": []
  },
  {
   "cell_type": "markdown",
   "id": "0fbd19c3-a6c2-4a09-9879-dc7bda039afa",
   "metadata": {},
   "source": [
    " class balancing the training on both methods."
   ]
  },
  {
   "cell_type": "code",
   "execution_count": 42,
   "id": "327fee5d",
   "metadata": {},
   "outputs": [
    {
     "name": "stdout",
     "output_type": "stream",
     "text": [
      "pass_math\n",
      "1    265\n",
      "0    130\n",
      "Name: count, dtype: int64\n",
      "pass_math\n",
      "1    0.670886\n",
      "0    0.329114\n",
      "Name: proportion, dtype: float64\n"
     ]
    }
   ],
   "source": [
    "y = df1['pass_math']   # or whatever your target column is\n",
    "print(y.value_counts())\n",
    "print(y.value_counts(normalize=True))  # proportions"
   ]
  },
  {
   "cell_type": "code",
   "execution_count": 43,
   "id": "28d072ab",
   "metadata": {},
   "outputs": [
    {
     "name": "stdout",
     "output_type": "stream",
     "text": [
      "Requirement already satisfied: imblearn in c:\\users\\the eye informatique\\desktop\\logistic-regression-for-student-performance-prediction\\venv\\lib\\site-packages (0.0)\n",
      "Requirement already satisfied: imbalanced-learn in c:\\users\\the eye informatique\\desktop\\logistic-regression-for-student-performance-prediction\\venv\\lib\\site-packages (from imblearn) (0.14.0)\n",
      "Requirement already satisfied: joblib<2,>=1.2.0 in c:\\users\\the eye informatique\\desktop\\logistic-regression-for-student-performance-prediction\\venv\\lib\\site-packages (from imbalanced-learn->imblearn) (1.5.2)\n",
      "Requirement already satisfied: threadpoolctl<4,>=2.0.0 in c:\\users\\the eye informatique\\desktop\\logistic-regression-for-student-performance-prediction\\venv\\lib\\site-packages (from imbalanced-learn->imblearn) (3.6.0)\n",
      "Requirement already satisfied: numpy<3,>=1.25.2 in c:\\users\\the eye informatique\\desktop\\logistic-regression-for-student-performance-prediction\\venv\\lib\\site-packages (from imbalanced-learn->imblearn) (2.2.6)\n",
      "Requirement already satisfied: scikit-learn<2,>=1.4.2 in c:\\users\\the eye informatique\\desktop\\logistic-regression-for-student-performance-prediction\\venv\\lib\\site-packages (from imbalanced-learn->imblearn) (1.7.2)\n",
      "Requirement already satisfied: scipy<2,>=1.11.4 in c:\\users\\the eye informatique\\desktop\\logistic-regression-for-student-performance-prediction\\venv\\lib\\site-packages (from imbalanced-learn->imblearn) (1.15.3)\n",
      "Note: you may need to restart the kernel to use updated packages.\n"
     ]
    },
    {
     "name": "stderr",
     "output_type": "stream",
     "text": [
      "\n",
      "[notice] A new release of pip available: 22.2.2 -> 25.2\n",
      "[notice] To update, run: python.exe -m pip install --upgrade pip\n"
     ]
    }
   ],
   "source": [
    "pip install imblearn"
   ]
  },
  {
   "cell_type": "code",
   "execution_count": 44,
   "id": "5fde63f5",
   "metadata": {},
   "outputs": [
    {
     "name": "stdout",
     "output_type": "stream",
     "text": [
      "pass_math\n",
      "0    265\n",
      "1    265\n",
      "Name: count, dtype: int64\n"
     ]
    }
   ],
   "source": [
    "from imblearn.over_sampling import RandomOverSampler\n",
    "from imblearn.under_sampling import RandomUnderSampler\n",
    "\n",
    "X = df1.drop('pass_math', axis=1)\n",
    "y = df1['pass_math']\n",
    "\n",
    "# Oversample\n",
    "ros = RandomOverSampler(random_state=42)\n",
    "X_resampled, y_resampled = ros.fit_resample(X, y)\n",
    "\n",
    "print(y_resampled.value_counts())\n"
   ]
  },
  {
   "cell_type": "markdown",
   "id": "3c3b0cd0",
   "metadata": {},
   "source": [
    "## Retraining\n",
    "\n",
    "1. From Scratch"
   ]
  },
  {
   "cell_type": "code",
   "execution_count": 45,
   "id": "8c1535e9",
   "metadata": {},
   "outputs": [],
   "source": [
    "\n",
    "\n",
    "# Ensure all features are numeric\n",
    "X_resampled = X_resampled.apply(pd.to_numeric, errors='coerce').fillna(0)\n"
   ]
  },
  {
   "cell_type": "code",
   "execution_count": null,
   "id": "8848b8b2",
   "metadata": {},
   "outputs": [],
   "source": []
  },
  {
   "cell_type": "code",
   "execution_count": 46,
   "id": "f8ff45d2",
   "metadata": {},
   "outputs": [],
   "source": [
    "# Make sure dtype is float\n",
    "X_resampled = X_resampled.astype(float)\n",
    "y_resampled = y_resampled.astype(float)"
   ]
  },
  {
   "cell_type": "code",
   "execution_count": null,
   "id": "c459712f",
   "metadata": {},
   "outputs": [],
   "source": []
  },
  {
   "cell_type": "code",
   "execution_count": 47,
   "id": "8c540c0b",
   "metadata": {},
   "outputs": [],
   "source": [
    "import numpy as np\n",
    "\n",
    "def sigmoid(z):\n",
    "    return 1 / (1 + np.exp(-z))\n",
    "\n",
    "def compute_loss(y, y_pred):\n",
    "    # Ensure NumPy arrays and column vectors\n",
    "    y = np.array(y).reshape(-1, 1)          # actual labels\n",
    "    y_pred = np.array(y_pred).reshape(-1, 1) # predicted probabilities\n",
    "\n",
    "    m = y.shape[0]\n",
    "    # Binary cross-entropy loss\n",
    "    loss = - (1/m) * np.sum(y * np.log(y_pred) + (1 - y) * np.log(1 - y_pred))\n",
    "    return loss\n",
    "\n",
    "def gradient_descent(X_resampled, y_resampled, lr=0.01, n_iter=1000):\n",
    "    # Ensure NumPy arrays\n",
    "    X = np.array(X_resampled)\n",
    "    y = np.array(y_resampled).reshape(-1, 1)  # column vector\n",
    "\n",
    "    m, n = X.shape\n",
    "    theta = np.zeros((n, 1))  # initialize weights\n",
    "    losses = []\n",
    "\n",
    "    for i in range(n_iter):\n",
    "        z = np.dot(X, theta)\n",
    "        y_pred = sigmoid(z)\n",
    "\n",
    "        # Gradient\n",
    "        gradient = (1 / m) * np.dot(X.T, (y_pred - y))\n",
    "\n",
    "        # Update weights\n",
    "        theta -= lr * gradient\n",
    "\n",
    "        # Compute loss\n",
    "        loss = compute_loss(y, y_pred)\n",
    "        losses.append(loss)\n",
    "\n",
    "        if i % 100 == 0:\n",
    "            print(f\"Iteration {i}, Loss: {loss:.4f}\")\n",
    "\n",
    "    return theta, losses\n"
   ]
  },
  {
   "cell_type": "code",
   "execution_count": 48,
   "id": "81fc7a1d",
   "metadata": {},
   "outputs": [
    {
     "name": "stdout",
     "output_type": "stream",
     "text": [
      "Iteration 0, Loss: 0.6931\n",
      "Iteration 100, Loss: 0.2141\n",
      "Iteration 200, Loss: 0.1783\n",
      "Iteration 300, Loss: 0.1615\n",
      "Iteration 400, Loss: 0.1509\n",
      "Iteration 500, Loss: 0.1433\n",
      "Iteration 600, Loss: 0.1375\n",
      "Iteration 700, Loss: 0.1328\n",
      "Iteration 800, Loss: 0.1288\n",
      "Iteration 900, Loss: 0.1255\n",
      "Iteration 1000, Loss: 0.1225\n",
      "Iteration 1100, Loss: 0.1199\n",
      "Iteration 1200, Loss: 0.1176\n",
      "Iteration 1300, Loss: 0.1155\n",
      "Iteration 1400, Loss: 0.1136\n",
      "Iteration 1500, Loss: 0.1119\n",
      "Iteration 1600, Loss: 0.1103\n",
      "Iteration 1700, Loss: 0.1088\n",
      "Iteration 1800, Loss: 0.1074\n",
      "Iteration 1900, Loss: 0.1061\n"
     ]
    }
   ],
   "source": [
    "#training the model\n",
    "\n",
    "theta, losses = gradient_descent(X_resampled, y_resampled, lr=0.01, n_iter=2000)\n"
   ]
  },
  {
   "cell_type": "code",
   "execution_count": 49,
   "id": "5c428252",
   "metadata": {},
   "outputs": [],
   "source": [
    "#make predictions\n",
    "def predict(X_resampled, theta, threshold=0.5):\n",
    "    probs = sigmoid(np.dot(X_resampled, theta))\n",
    "    return (probs >= threshold).astype(int)\n",
    "\n",
    "y_resampled_pred = predict(X_resampled, theta)"
   ]
  },
  {
   "cell_type": "code",
   "execution_count": 50,
   "id": "3ce190f3",
   "metadata": {},
   "outputs": [
    {
     "name": "stdout",
     "output_type": "stream",
     "text": [
      "Training accuracy: 96.04%\n"
     ]
    }
   ],
   "source": [
    "# Suppose theta is from your gradient descent\n",
    "z = np.dot(X_resampled, theta)\n",
    "y_resampled_pred_prob = sigmoid(z)\n",
    "\n",
    "# Convert probabilities to binary predictions\n",
    "y_resampled_pred = (y_resampled_pred_prob >= 0.5).astype(int).reshape(-1)  # 1D array\n",
    "y_resampled_true = np.array(y_resampled).reshape(-1)                        # 1D array\n",
    "\n",
    "# Compute accuracy\n",
    "accuracy = np.mean(y_resampled_pred == y_resampled_true)\n",
    "print(f\"Training accuracy: {accuracy*100:.2f}%\")\n"
   ]
  },
  {
   "cell_type": "markdown",
   "id": "919e61cb",
   "metadata": {},
   "source": [
    "### Logisitic regression"
   ]
  },
  {
   "cell_type": "code",
   "execution_count": 51,
   "id": "aab32646",
   "metadata": {},
   "outputs": [
    {
     "name": "stdout",
     "output_type": "stream",
     "text": [
      "Test Score: 96.23%\n"
     ]
    }
   ],
   "source": [
    "from sklearn.model_selection import train_test_split\n",
    "from sklearn.preprocessing import StandardScaler\n",
    "from sklearn.pipeline import make_pipeline\n",
    "from sklearn.linear_model import LogisticRegression\n",
    "\n",
    "# Split the resampled data\n",
    "X_train_resampled, X_test_resampled, y_train_resampled, y_test_resampled = train_test_split(\n",
    "    X_resampled, y_resampled, test_size=0.2, random_state=42\n",
    ")\n",
    "\n",
    "# Create a pipeline: scaling + logistic regression\n",
    "pipe = make_pipeline(StandardScaler(), LogisticRegression(max_iter=200, random_state=42))\n",
    "\n",
    "# Fit the model\n",
    "pipe.fit(X_train_resampled, y_train_resampled)\n",
    "\n",
    "# Evaluate on test set\n",
    "test_score = pipe.score(X_test_resampled, y_test_resampled)\n",
    "print(f\"Test Score: {test_score*100:.2f}%\")\n"
   ]
  },
  {
   "cell_type": "markdown",
   "id": "73b9f5a9",
   "metadata": {},
   "source": [
    "### 2. **Portuguese**"
   ]
  },
  {
   "cell_type": "code",
   "execution_count": 52,
   "id": "d654f53b",
   "metadata": {},
   "outputs": [
    {
     "data": {
      "text/plain": [
       "Index(['school', 'sex', 'age', 'address', 'famsize', 'Pstatus', 'Medu', 'Fedu',\n",
       "       'Mjob', 'Fjob', 'reason', 'guardian', 'traveltime', 'studytime',\n",
       "       'failures', 'schoolsup', 'famsup', 'paid', 'activities', 'nursery',\n",
       "       'higher', 'internet', 'romantic', 'famrel', 'freetime', 'goout', 'Dalc',\n",
       "       'Walc', 'health', 'absences', 'G1', 'G2', 'G3'],\n",
       "      dtype='object')"
      ]
     },
     "execution_count": 52,
     "metadata": {},
     "output_type": "execute_result"
    }
   ],
   "source": [
    "df2.columns"
   ]
  },
  {
   "cell_type": "code",
   "execution_count": 53,
   "id": "797a2397",
   "metadata": {},
   "outputs": [
    {
     "name": "stdout",
     "output_type": "stream",
     "text": [
      "pass_por\n",
      "1.0    265\n",
      "0.0    130\n",
      "Name: count, dtype: int64\n"
     ]
    }
   ],
   "source": [
    "# Create a new column 'pass_por' \n",
    "df2['pass_por'] = df1['G3'].apply(lambda x: 1 if x >= 10 else 0)\n",
    "\n",
    "# Check distribution\n",
    "print(df2['pass_por'].value_counts())\n"
   ]
  },
  {
   "cell_type": "code",
   "execution_count": 54,
   "id": "c1d5769a",
   "metadata": {},
   "outputs": [],
   "source": [
    "categorical_colss = [\n",
    "    'school', 'sex', 'address', 'famsize', 'Pstatus', \n",
    "    'Mjob', 'Fjob', 'reason', 'guardian', 'schoolsup', \n",
    "    'famsup', 'paid', 'activities', 'nursery', 'higher', \n",
    "    'internet', 'romantic'\n",
    "]\n"
   ]
  },
  {
   "cell_type": "code",
   "execution_count": 55,
   "id": "ade28f9d",
   "metadata": {},
   "outputs": [],
   "source": [
    "# One-hot encode categorical variables\n",
    "df2_encoded = pd.get_dummies(df2, columns=categorical_colss, drop_first=True)"
   ]
  },
  {
   "cell_type": "code",
   "execution_count": 56,
   "id": "73adf733",
   "metadata": {},
   "outputs": [],
   "source": [
    "X_por = df2_encoded.drop(columns=['G1','G2','G3','pass_por'])\n",
    "y_por = df2_encoded['pass_por']"
   ]
  },
  {
   "cell_type": "code",
   "execution_count": 57,
   "id": "67d6c6e0",
   "metadata": {},
   "outputs": [
    {
     "name": "stdout",
     "output_type": "stream",
     "text": [
      "Iteration 0, Loss: 0.6979\n",
      "Iteration 100, Loss: 0.5710\n",
      "Iteration 200, Loss: 0.5199\n",
      "Iteration 300, Loss: 0.4917\n",
      "Iteration 400, Loss: 0.4732\n",
      "Iteration 500, Loss: 0.4600\n",
      "Iteration 600, Loss: 0.4500\n",
      "Iteration 700, Loss: 0.4422\n",
      "Iteration 800, Loss: 0.4358\n",
      "Iteration 900, Loss: 0.4306\n",
      "Iteration 1000, Loss: 0.4262\n",
      "Iteration 1100, Loss: 0.4225\n",
      "Iteration 1200, Loss: 0.4193\n",
      "Iteration 1300, Loss: 0.4165\n",
      "Iteration 1400, Loss: 0.4140\n",
      "Iteration 1500, Loss: 0.4119\n",
      "Iteration 1600, Loss: 0.4100\n",
      "Iteration 1700, Loss: 0.4083\n",
      "Iteration 1800, Loss: 0.4067\n",
      "Iteration 1900, Loss: 0.4054\n",
      "Training accuracy: 79.82%\n"
     ]
    }
   ],
   "source": [
    "import numpy as np\n",
    "import pandas as pd\n",
    "from sklearn.preprocessing import StandardScaler\n",
    "\n",
    "\n",
    "\n",
    "# Convert to numeric and fill any NaNs\n",
    "X_por = X_por.apply(pd.to_numeric, errors='coerce').fillna(0)\n",
    "y_por = y_por.apply(pd.to_numeric, errors='coerce').fillna(0)\n",
    "\n",
    "# Convert to NumPy arrays\n",
    "X = X_por.values.astype(float)\n",
    "y = y_por.values.reshape(-1, 1).astype(float)\n",
    "\n",
    "# Scale features (except bias)\n",
    "scaler = StandardScaler()\n",
    "X = scaler.fit_transform(X)\n",
    "\n",
    "# Add bias term\n",
    "X = np.hstack((np.ones((X.shape[0], 1)), X))\n",
    "\n",
    "# ========================\n",
    "# Sigmoid function\n",
    "# ========================\n",
    "def sigmoid(z):\n",
    "    return 1 / (1 + np.exp(-z))\n",
    "\n",
    "# ========================\n",
    "# Compute loss (binary cross-entropy)\n",
    "# ========================\n",
    "def compute_loss(y, y_pred):\n",
    "    epsilon = 1e-15  # prevent log(0)\n",
    "    y_pred = np.clip(y_pred, epsilon, 1 - epsilon)\n",
    "    m = y.shape[0]\n",
    "    loss = - (1/m) * np.sum(y * np.log(y_pred) + (1 - y) * np.log(1 - y_pred))\n",
    "    return loss\n",
    "\n",
    "# ========================\n",
    "# Gradient descent\n",
    "# ========================\n",
    "def gradient_descent(X, y, lr=0.01, n_iter=2000):\n",
    "    m, n = X.shape\n",
    "    theta = np.random.randn(n, 1) * 0.01  # small random init\n",
    "    losses = []\n",
    "\n",
    "    for i in range(n_iter):\n",
    "        z = np.dot(X, theta)\n",
    "        y_pred = sigmoid(z)\n",
    "        \n",
    "        gradient = (1/m) * np.dot(X.T, (y_pred - y))\n",
    "        theta -= lr * gradient\n",
    "        \n",
    "        loss = compute_loss(y, y_pred)\n",
    "        losses.append(loss)\n",
    "        \n",
    "        if i % 100 == 0:\n",
    "            print(f\"Iteration {i}, Loss: {loss:.4f}\")\n",
    "            \n",
    "    return theta, losses\n",
    "\n",
    "# ========================\n",
    "# Train the model\n",
    "# ========================\n",
    "theta, losses = gradient_descent(X, y, lr=0.01, n_iter=2000)\n",
    "\n",
    "# ========================\n",
    "# Evaluate accuracy\n",
    "# ========================\n",
    "y_pred_labels = (sigmoid(np.dot(X, theta)) >= 0.5).astype(int)\n",
    "accuracy = np.mean(y_pred_labels == y)\n",
    "print(f\"Training accuracy: {accuracy*100:.2f}%\")\n"
   ]
  },
  {
   "cell_type": "markdown",
   "id": "b25a4682",
   "metadata": {},
   "source": [
    "## Logistic Regression using scikit-learn"
   ]
  },
  {
   "cell_type": "code",
   "execution_count": 58,
   "id": "1cad3d56",
   "metadata": {},
   "outputs": [
    {
     "name": "stdout",
     "output_type": "stream",
     "text": [
      "Test Accuracy: 76.15%\n",
      "\n",
      "Classification Report:\n",
      "              precision    recall  f1-score   support\n",
      "\n",
      "         0.0       0.80      0.79      0.79        75\n",
      "         1.0       0.71      0.73      0.72        55\n",
      "\n",
      "    accuracy                           0.76       130\n",
      "   macro avg       0.76      0.76      0.76       130\n",
      "weighted avg       0.76      0.76      0.76       130\n",
      "\n"
     ]
    }
   ],
   "source": [
    "from sklearn.linear_model import LogisticRegression\n",
    "from sklearn.preprocessing import StandardScaler\n",
    "from sklearn.pipeline import make_pipeline\n",
    "from sklearn.model_selection import train_test_split\n",
    "from sklearn.metrics import accuracy_score, classification_report\n",
    "\n",
    "\n",
    "X_train, X_test, y_train, y_test = train_test_split(\n",
    "    X_por, y_por, test_size=0.2, random_state=42\n",
    ")\n",
    "\n",
    "\n",
    "pipe = make_pipeline(\n",
    "    StandardScaler(),\n",
    "    LogisticRegression(max_iter=2000, random_state=42)\n",
    ")\n",
    "\n",
    "\n",
    "pipe.fit(X_train, y_train)\n",
    "\n",
    "\n",
    "y_pred = pipe.predict(X_test)\n",
    "accuracy = accuracy_score(y_test, y_pred)\n",
    "\n",
    "print(f\"Test Accuracy: {accuracy*100:.2f}%\\n\")\n",
    "print(\"Classification Report:\")\n",
    "print(classification_report(y_test, y_pred))\n"
   ]
  },
  {
   "cell_type": "markdown",
   "id": "6d17ef74",
   "metadata": {},
   "source": [
    "** next regularization , class balancing, retraining"
   ]
  },
  {
   "cell_type": "markdown",
   "id": "419bff84",
   "metadata": {},
   "source": [
    "## **regularization"
   ]
  },
  {
   "cell_type": "code",
   "execution_count": 59,
   "id": "8b801ce9",
   "metadata": {},
   "outputs": [
    {
     "name": "stdout",
     "output_type": "stream",
     "text": [
      "Training accuracy after regularization: 0.9094412331406551\n",
      "Test accuracy after regularization:: 0.9153846153846154\n"
     ]
    }
   ],
   "source": [
    "df2 = pd.read_csv(\"../DATA/student+performance/student/student-por.csv\", sep=\";\")\n",
    "df2['pass_por'] = df2['G3'].apply(lambda x: 1 if x >= 10 else 0)\n",
    "\n",
    "# Prepare feature matrix X and target vector y\n",
    "X_por = df2.drop(columns=['G3', 'pass_por'])  # Drop target and any non-feature columns\n",
    "y_por = df2['pass_por']\n",
    "\n",
    "# Ensure all features are numeric\n",
    "X_por = X_por.apply(pd.to_numeric, errors='coerce').fillna(0)\n",
    "\n",
    "X = X_por.values  # Convert features to a numpy array\n",
    "y = y_por.values.reshape(-1, 1)  # Convert target to a column vector\n",
    "\n",
    "# Ensure dtype is float\n",
    "X = X.astype(float)\n",
    "y = y.astype(float)\n",
    "\n",
    "def sigmoid(z):\n",
    "    return 1 / (1 + np.exp(-z))\n",
    "\n",
    "def compute_loss(X, y, theta, lambda_reg=0.01):\n",
    "    m = len(y)\n",
    "    predictions = sigmoid(X @ theta)\n",
    "    \n",
    "    # Compute the loss with L2 regularization\n",
    "    loss = (-1 / m) * (y.T @ np.log(predictions + 1e-15) + (1 - y).T @ np.log(1 - predictions + 1e-15))\n",
    "    reg_loss = (lambda_reg / (2 * m)) * np.sum(np.square(theta[1:]))  # Regularization term\n",
    "    return loss + reg_loss\n",
    "\n",
    "def gradient_descent(X, y, lr=0.01, n_iter=1000, lambda_reg=0.01):\n",
    "    m, n = X.shape\n",
    "    theta = np.zeros((n, 1))  # Ensure theta is a column vector\n",
    "    losses = []\n",
    "\n",
    "    for _ in range(n_iter):\n",
    "        predictions = sigmoid(X @ theta)\n",
    "        error = predictions - y\n",
    "        \n",
    "        # Compute gradient with L2 regularization\n",
    "        gradient = (1 / m) * (X.T @ error) + (lambda_reg / m) * np.vstack(([0], theta[1:]))  # Regularization term\n",
    "        \n",
    "        theta -= lr * gradient\n",
    "\n",
    "        loss = compute_loss(X, y, theta, lambda_reg)\n",
    "        losses.append(loss)\n",
    "\n",
    "    return theta, losses\n",
    "\n",
    "def predict(X, theta):\n",
    "    return (sigmoid(X @ theta) >= 0.5).astype(int)\n",
    "\n",
    "def accuracy(y_true, y_pred):\n",
    "    return np.mean(y_true.flatten() == y_pred.flatten())\n",
    "\n",
    "# Split the data\n",
    "X_train_por, X_test_por, y_train_por, y_test_por = train_test_split(X, y, test_size=0.2, random_state=42)\n",
    "\n",
    "# Train the model with regularization\n",
    "theta_train, losses_train = gradient_descent(X_train_por, y_train_por, lr=0.01, n_iter=2000, lambda_reg=0.1)\n",
    "\n",
    "# Make predictions\n",
    "y_train_pred = predict(X_train_por, theta_train)\n",
    "y_test_pred = predict(X_test_por, theta_train)\n",
    "\n",
    "# Print accuracies\n",
    "print(\"Training accuracy after regularization:\", accuracy(y_train_por, y_train_pred))\n",
    "print(\"Test accuracy after regularization::\", accuracy(y_test_por, y_test_pred))"
   ]
  },
  {
   "cell_type": "code",
   "execution_count": 60,
   "id": "4c2c6458",
   "metadata": {},
   "outputs": [
    {
     "name": "stdout",
     "output_type": "stream",
     "text": [
      "pass_por\n",
      "1    549\n",
      "0    100\n",
      "Name: count, dtype: int64\n",
      "pass_por\n",
      "1    0.845917\n",
      "0    0.154083\n",
      "Name: proportion, dtype: float64\n"
     ]
    }
   ],
   "source": [
    "y = df2['pass_por']   # or whatever your target column is\n",
    "print(y.value_counts())\n",
    "print(y.value_counts(normalize=True))  # proportions"
   ]
  },
  {
   "cell_type": "code",
   "execution_count": 61,
   "id": "659a9e95",
   "metadata": {},
   "outputs": [
    {
     "name": "stdout",
     "output_type": "stream",
     "text": [
      "pass_por\n",
      "1    549\n",
      "0    549\n",
      "Name: count, dtype: int64\n"
     ]
    }
   ],
   "source": [
    "from imblearn.over_sampling import RandomOverSampler\n",
    "from imblearn.under_sampling import RandomUnderSampler\n",
    "\n",
    "X = df2.drop('pass_por', axis=1)\n",
    "y = df2['pass_por']\n",
    "\n",
    "# Oversample\n",
    "ros = RandomOverSampler(random_state=42)\n",
    "X_resampled, y_resampled = ros.fit_resample(X, y)\n",
    "\n",
    "print(y_resampled.value_counts())\n"
   ]
  },
  {
   "cell_type": "markdown",
   "id": "e7965b9c",
   "metadata": {},
   "source": [
    "**retraining "
   ]
  }
 ],
 "metadata": {
  "kernelspec": {
   "display_name": "venv",
   "language": "python",
   "name": "python3"
  },
  "language_info": {
   "codemirror_mode": {
    "name": "ipython",
    "version": 3
   },
   "file_extension": ".py",
   "mimetype": "text/x-python",
   "name": "python",
   "nbconvert_exporter": "python",
   "pygments_lexer": "ipython3",
   "version": "3.10.7"
  }
 },
 "nbformat": 4,
 "nbformat_minor": 5
}
